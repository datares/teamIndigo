{
 "cells": [
  {
   "cell_type": "code",
   "execution_count": null,
   "metadata": {},
   "outputs": [],
   "source": [
    "# import chart_studio\n",
    "# chart_studio.tools.set_credentials_file(username='avijay', api_key='LAWCTkUltYg99vCSvJUu')"
   ]
  },
  {
   "cell_type": "code",
   "execution_count": null,
   "metadata": {},
   "outputs": [],
   "source": [
    "import pandas as pd\n",
    "pd.set_option('display.max_columns', None)\n",
    "pd.set_option('display.max_rows', None)"
   ]
  },
  {
   "cell_type": "code",
   "execution_count": null,
   "metadata": {},
   "outputs": [],
   "source": [
    "y03_20 = pd.read_csv(\"y03_20.csv\")"
   ]
  },
  {
   "cell_type": "code",
   "execution_count": null,
   "metadata": {},
   "outputs": [],
   "source": [
    "y03_20.isnull().sum()"
   ]
  },
  {
   "cell_type": "code",
   "execution_count": null,
   "metadata": {},
   "outputs": [],
   "source": [
    "y03_20.columns"
   ]
  },
  {
   "cell_type": "code",
   "execution_count": null,
   "metadata": {},
   "outputs": [],
   "source": [
    "y03_20.head()"
   ]
  },
  {
   "cell_type": "code",
   "execution_count": null,
   "metadata": {},
   "outputs": [],
   "source": [
    "y03_20.rename(columns  = {'Name' :'incident_name', 'County':'incident_county','Acres':'incident_acres_burned', \n",
    "                  'Start Date':'incident_dateonly_created', 'Contained Date':'incident_dateonly_extinguished', \n",
    "                  'active':'is_active', 'Percent contained':'incident_containment', 'Difference' : 'Duration'}, inplace = True)"
   ]
  },
  {
   "cell_type": "code",
   "execution_count": null,
   "metadata": {},
   "outputs": [],
   "source": [
    "y03_20['is_active'] = y03_20['is_active'].map( \n",
    "                   {True:'Yes' ,False:'No'}) "
   ]
  },
  {
   "cell_type": "code",
   "execution_count": null,
   "metadata": {},
   "outputs": [],
   "source": [
    "new_df = pd.DataFrame(y03_20.incident_county.str.split(', ').tolist(), index=[y03_20.incident_acres_burned, y03_20.incident_dateonly_extinguished, y03_20.incident_containment, y03_20.incident_name]).stack()"
   ]
  },
  {
   "cell_type": "code",
   "execution_count": null,
   "metadata": {},
   "outputs": [],
   "source": [
    "new_df.head()"
   ]
  },
  {
   "cell_type": "code",
   "execution_count": null,
   "metadata": {},
   "outputs": [],
   "source": [
    "new_df = new_df.reset_index([0, 'incident_acres_burned', 'incident_dateonly_extinguished','incident_containment','incident_name'])"
   ]
  },
  {
   "cell_type": "code",
   "execution_count": null,
   "metadata": {},
   "outputs": [],
   "source": [
    "new_df.rename(columns = {0:'incident_county'}, inplace = True)"
   ]
  },
  {
   "cell_type": "code",
   "execution_count": null,
   "metadata": {},
   "outputs": [],
   "source": [
    "new_df['incident_county'] = new_df['incident_county'] + \" County\""
   ]
  },
  {
   "cell_type": "code",
   "execution_count": null,
   "metadata": {},
   "outputs": [],
   "source": [
    "new_df['STNAME'] = 'CA'"
   ]
  },
  {
   "cell_type": "code",
   "execution_count": null,
   "metadata": {},
   "outputs": [],
   "source": [
    "new_df.shape"
   ]
  },
  {
   "cell_type": "code",
   "execution_count": null,
   "metadata": {},
   "outputs": [],
   "source": [
    "new_df.nlargest(10, 'incident_acres_burned')"
   ]
  },
  {
   "cell_type": "code",
   "execution_count": null,
   "metadata": {},
   "outputs": [],
   "source": [
    "test = pd.read_csv('national_county.csv', header = None)"
   ]
  },
  {
   "cell_type": "code",
   "execution_count": null,
   "metadata": {},
   "outputs": [],
   "source": [
    "test.rename(columns = {0: \"x\", 1 : \"y\"}, inplace = True)"
   ]
  },
  {
   "cell_type": "code",
   "execution_count": null,
   "metadata": {},
   "outputs": [],
   "source": [
    "test2 = pd.DataFrame(test.y.str.split(',').tolist())"
   ]
  },
  {
   "cell_type": "code",
   "execution_count": null,
   "metadata": {},
   "outputs": [],
   "source": [
    "test2.rename(columns = {0: \"STNAME\", 1 : \"x\", 2 : \"y\", 3 : \"incident_county\"}, inplace = True)"
   ]
  },
  {
   "cell_type": "code",
   "execution_count": null,
   "metadata": {},
   "outputs": [],
   "source": [
    "test2.drop([4], axis = 1 ,inplace = True)"
   ]
  },
  {
   "cell_type": "code",
   "execution_count": null,
   "metadata": {},
   "outputs": [],
   "source": [
    "test2[\"FIPS\"] = test2['x'] + test2['y']"
   ]
  },
  {
   "cell_type": "code",
   "execution_count": null,
   "metadata": {},
   "outputs": [],
   "source": [
    "test2.drop(['x', 'y'], axis = 1, inplace = True)"
   ]
  },
  {
   "cell_type": "code",
   "execution_count": null,
   "metadata": {},
   "outputs": [],
   "source": [
    "testCA = test2[test2[\"STNAME\"] == 'CA']"
   ]
  },
  {
   "cell_type": "code",
   "execution_count": null,
   "metadata": {},
   "outputs": [],
   "source": [
    "testCA.head()"
   ]
  },
  {
   "cell_type": "code",
   "execution_count": null,
   "metadata": {},
   "outputs": [],
   "source": [
    "new_df['FIPS'] = new_df.incident_county.map(testCA.set_index('incident_county')['FIPS'].to_dict())"
   ]
  },
  {
   "cell_type": "code",
   "execution_count": null,
   "metadata": {},
   "outputs": [],
   "source": [
    "new_df.shape"
   ]
  },
  {
   "cell_type": "code",
   "execution_count": null,
   "metadata": {},
   "outputs": [],
   "source": [
    "import numpy as np"
   ]
  },
  {
   "cell_type": "code",
   "execution_count": null,
   "metadata": {},
   "outputs": [],
   "source": [
    "subset = new_df.groupby(['incident_county']).agg({'incident_acres_burned':sum, 'incident_containment':np.mean, 'incident_name':len}).reset_index()"
   ]
  },
  {
   "cell_type": "code",
   "execution_count": null,
   "metadata": {},
   "outputs": [],
   "source": [
    "subset['FIPS'] = subset.incident_county.map(testCA.set_index('incident_county')['FIPS'].to_dict())"
   ]
  },
  {
   "cell_type": "code",
   "execution_count": null,
   "metadata": {},
   "outputs": [],
   "source": [
    "subset.incident_name.sum()"
   ]
  },
  {
   "cell_type": "code",
   "execution_count": null,
   "metadata": {},
   "outputs": [],
   "source": [
    "subset['incident_emoji'] = subset.incident_county + \"🏘️\""
   ]
  },
  {
   "cell_type": "code",
   "execution_count": null,
   "metadata": {},
   "outputs": [],
   "source": [
    "subset.head()"
   ]
  },
  {
   "cell_type": "code",
   "execution_count": null,
   "metadata": {},
   "outputs": [],
   "source": [
    "# import chart_studio\n",
    "# chart_studio.tools.set_credentials_file(username='abrj', api_key='75h5GuKDdb09qZaIZliq')"
   ]
  },
  {
   "cell_type": "code",
   "execution_count": null,
   "metadata": {},
   "outputs": [],
   "source": [
    "from urllib.request import urlopen\n",
    "import json\n",
    "import pandas as pd\n",
    "import plotly.express as px\n",
    "# import datapane as dp \n",
    "# import chart_studio.plotly as py\n",
    "\n",
    "\n",
    "\n",
    "# dp.login(token=\"2d2d9a71f188e688bdb5a4a8592aefe7e672fda0\")\n",
    "\n",
    "with urlopen('https://raw.githubusercontent.com/plotly/datasets/master/geojson-counties-fips.json') as response:\n",
    "    counties = json.load(response)\n",
    "\n",
    "\n",
    "fig = px.choropleth_mapbox(subset, geojson=counties, locations='FIPS', color= 'incident_acres_burned',\n",
    "                           color_continuous_scale=\"inferno_r\",\n",
    "                           hover_name = 'incident_emoji',\n",
    "                           mapbox_style=\"carto-positron\",\n",
    "                           zoom=3.8, center = {\"lat\": 37.3, \"lon\": -119.4179},\n",
    "                           hover_data = {'incident_acres_burned':True, 'incident_name':True,'FIPS':False},\n",
    "                           opacity=0.5,\n",
    "                           labels={'incident_acres_burned':'Acres Burned', 'incident_name' : 'Number of Incidents'},\n",
    "                           title = \"Cumulative Acres Burned by County\"\n",
    "                          )\n",
    "\n",
    "fig.update_layout(autosize = True)\n",
    "# py.plot(fig, filename = 'firemap1', auto_open=True)\n",
    "# fig.write_html(\"firemap2.html\")\n",
    "fig.show()\n",
    "\n",
    "\n",
    "# report = dp.Report(dp.Plot(fig) ) #Create a report\n",
    "# report.publish(name='firemap2', open=True, visibility='PUBLIC') #Publish the report\n"
   ]
  },
  {
   "cell_type": "code",
   "execution_count": null,
   "metadata": {},
   "outputs": [],
   "source": [
    "# import chart_studio\n",
    "# chart_studio.tools.set_credentials_file(username='dwightvj', api_key='pn71yD9C0HFjpESIbigR')"
   ]
  },
  {
   "cell_type": "code",
   "execution_count": null,
   "metadata": {},
   "outputs": [],
   "source": [
    "from urllib.request import urlopen\n",
    "import json\n",
    "import pandas as pd\n",
    "import plotly.express as px\n",
    "# import datapane as dp \n",
    "# import chart_studio.plotly as py\n",
    "\n",
    "\n",
    "# dp.login(token=\"2d2d9a71f188e688bdb5a4a8592aefe7e672fda0\")\n",
    "\n",
    "with urlopen('https://raw.githubusercontent.com/plotly/datasets/master/geojson-counties-fips.json') as response:\n",
    "    counties = json.load(response)\n",
    "\n",
    "\n",
    "fig = px.choropleth_mapbox(subset, geojson=counties, locations='FIPS', color= 'incident_name',\n",
    "                           color_continuous_scale=\"inferno_r\",\n",
    "                           hover_name = 'incident_emoji',\n",
    "                           mapbox_style=\"carto-positron\",\n",
    "                           zoom=4.2, center = {\"lat\": 37.3, \"lon\": -119.4179},\n",
    "                           hover_data = {'incident_name':True, 'incident_acres_burned':False,'FIPS':False},\n",
    "                           opacity=0.5,\n",
    "                           labels={'incident_acres_burned':'Acres Burned', 'incident_name' : 'Number of Incidents'},\n",
    "                           title = 'Total Wildfire Incidents by County'\n",
    "                          )\n",
    "\n",
    "fig.update_layout(autosize = True)\n",
    "\n",
    "# fig.write_html(\"firemap2.html\")\n",
    "# py.plot(fig, filename = 'firemap1', auto_open=True)\n",
    "fig.show()\n",
    "\n",
    "\n",
    "# report = dp.Report(dp.Plot(fig) ) #Create a report\n",
    "# report.publish(name='firemap2', open=True, visibility='PUBLIC') #Publish the report\n"
   ]
  },
  {
   "cell_type": "code",
   "execution_count": null,
   "metadata": {},
   "outputs": [],
   "source": [
    "subset.head()"
   ]
  },
  {
   "cell_type": "code",
   "execution_count": null,
   "metadata": {},
   "outputs": [],
   "source": [
    "burned_by_county = subset.nlargest(10, 'incident_acres_burned')"
   ]
  },
  {
   "cell_type": "code",
   "execution_count": null,
   "metadata": {},
   "outputs": [],
   "source": [
    "burned_by_county.head()"
   ]
  },
  {
   "cell_type": "code",
   "execution_count": null,
   "metadata": {},
   "outputs": [],
   "source": [
    "import plotly.express as px\n",
    "# import datapane as dp \n",
    "# import chart_studio.plotly as py\n",
    "# dp.login(token=\"2d2d9a71f188e688bdb5a4a8592aefe7e672fda0\")\n",
    "\n",
    "fig = px.bar(burned_by_county, y=\"incident_county\", x=\"incident_acres_burned\", color=\"incident_county\", orientation=\"h\", \n",
    "             hover_name=\"incident_emoji\", hover_data = {'incident_county':False, 'incident_acres_burned':True, \n",
    "                                                         'incident_name':True},\n",
    "             labels = {'incident_county' : 'County', 'incident_acres_burned' : 'Acres Burned', 'incident_name':\"Total Number of Fires\"},\n",
    "             color_discrete_sequence = px.colors.sequential.matter_r, title = 'Top 10 Counties 🏘️ Ranked by Acres Burned'\n",
    "            )\n",
    "\n",
    "fig.update_layout(showlegend=False) \n",
    "fig.write_html(\"barchart_counties.html\")\n",
    "\n",
    "# py.plot(fig, filename = 'barchart_counties', auto_open=True)\n",
    "fig.show()\n",
    "\n",
    "# report = dp.Report(dp.Plot(fig) ) #Create a report\n",
    "# report.publish(name='barchart_counties', open=True, visibility='PUBLIC') #Publish the report"
   ]
  },
  {
   "cell_type": "code",
   "execution_count": null,
   "metadata": {},
   "outputs": [],
   "source": [
    "burned_by_name = y03_20.nlargest(10, 'incident_acres_burned')"
   ]
  },
  {
   "cell_type": "code",
   "execution_count": null,
   "metadata": {},
   "outputs": [],
   "source": [
    "burned_by_name['Duration'] = burned_by_name['Duration'].apply(str) + \" days\""
   ]
  },
  {
   "cell_type": "code",
   "execution_count": null,
   "metadata": {},
   "outputs": [],
   "source": [
    "def change(val):\n",
    "    if 'Complex' in val:\n",
    "        return val\n",
    "    else:\n",
    "        return val + \" Fire\""
   ]
  },
  {
   "cell_type": "code",
   "execution_count": null,
   "metadata": {},
   "outputs": [],
   "source": [
    "burned_by_name['incident_name'] = burned_by_name['incident_name'].apply(change)"
   ]
  },
  {
   "cell_type": "code",
   "execution_count": null,
   "metadata": {},
   "outputs": [],
   "source": [
    "burned_by_name['incident_fire'] = burned_by_name.incident_name + \"🔥\""
   ]
  },
  {
   "cell_type": "code",
   "execution_count": null,
   "metadata": {},
   "outputs": [],
   "source": [
    "import plotly.express as px\n",
    "import datapane as dp \n",
    "# dp.login(token=\"2d2d9a71f188e688bdb5a4a8592aefe7e672fda0\")\n",
    "# import chart_studio.plotly as py\n",
    "fig = px.bar(burned_by_name, y=\"incident_name\", x=\"incident_acres_burned\", color=\"incident_name\", orientation=\"h\", \n",
    "             hover_name=\"incident_fire\", hover_data = {'incident_name':False,\n",
    "                                                       'Duration':True,\n",
    "                                                       'incident_acres_burned':True,\n",
    "                                                       'incident_county':True,\n",
    "                                                       'incident_dateonly_extinguished':True},\n",
    "             labels = {'incident_name' : 'Incident Name','incident_dateonly_extinguished' : 'Date Extinguished🧯', \n",
    "                       'Duration':'Duration of Fire','incident_acres_burned' : 'Acres Burned', \n",
    "                       'incident_county' : 'Counties Affected'},\n",
    "             color_discrete_sequence = px.colors.sequential.amp_r, title = 'Top 10 Wildfires 🔥 Ranked by Acres Burned'\n",
    "            )\n",
    "\n",
    "\n",
    "\n",
    "fig.update_layout(showlegend=False) \n",
    "# fig.write_html(\"barchart_fires.html\")\n",
    "# py.plot(fig, filename = 'barchart_fires', auto_open=True)\n",
    "fig.show()\n",
    "\n",
    "# report = dp.Report(dp.Plot(fig) ) #Create a report\n",
    "# report.publish(name='barchart_names', open=True, visibility='PUBLIC') #Publish the report"
   ]
  },
  {
   "cell_type": "code",
   "execution_count": null,
   "metadata": {},
   "outputs": [],
   "source": [
    "y03_20"
   ]
  },
  {
   "cell_type": "code",
   "execution_count": null,
   "metadata": {},
   "outputs": [],
   "source": [
    "y03_20['Month'] = pd.to_datetime(y03_20['incident_dateonly_created']).dt.month\n",
    "y03_20.sort_values(by = 'Month', inplace = True)"
   ]
  },
  {
   "cell_type": "code",
   "execution_count": null,
   "metadata": {},
   "outputs": [],
   "source": [
    "import calendar\n",
    "def convert(val):\n",
    "    return calendar.month_name[val]"
   ]
  },
  {
   "cell_type": "code",
   "execution_count": null,
   "metadata": {},
   "outputs": [],
   "source": [
    "y03_20['Month'] = y03_20['Month'].apply(convert)"
   ]
  },
  {
   "cell_type": "code",
   "execution_count": null,
   "metadata": {},
   "outputs": [],
   "source": [
    "y03_20.head()"
   ]
  },
  {
   "cell_type": "code",
   "execution_count": null,
   "metadata": {},
   "outputs": [],
   "source": [
    "# when we have data that spans multiple orders of magnitude logarithmic scaling is GOOD IDEA!!"
   ]
  },
  {
   "cell_type": "code",
   "execution_count": null,
   "metadata": {},
   "outputs": [],
   "source": [
    "coastal_counties = ['Humboldt', 'Mendocino', 'Sonoma', 'Marin', 'San Francisco', 'San Mateo County', 'Santa Cruz',\n",
    "                   'Monterey', 'San Luis Obispo', 'Santa Barbara', 'Ventura', 'Los Angeles', 'Orange', 'San Diego']\n",
    "\n",
    "len(coastal_counties)"
   ]
  },
  {
   "cell_type": "code",
   "execution_count": null,
   "metadata": {},
   "outputs": [],
   "source": [
    "import re\n",
    "def get_region(val):\n",
    "    res = re.split(',|\\|', val) \n",
    "    for i in res:\n",
    "        if i in coastal_counties:\n",
    "            return True\n",
    "        else:\n",
    "            return False"
   ]
  },
  {
   "cell_type": "code",
   "execution_count": null,
   "metadata": {},
   "outputs": [],
   "source": [
    "y03_20['is_coastal'] = y03_20.incident_county.apply(get_region)"
   ]
  },
  {
   "cell_type": "code",
   "execution_count": null,
   "metadata": {},
   "outputs": [],
   "source": [
    "y03_20['coastal_str'] = y03_20['is_coastal'].apply(str)"
   ]
  },
  {
   "cell_type": "code",
   "execution_count": null,
   "metadata": {},
   "outputs": [],
   "source": [
    "y03_20['duration_str'] = y03_20['Duration'].apply(str) + \" days\""
   ]
  },
  {
   "cell_type": "code",
   "execution_count": null,
   "metadata": {},
   "outputs": [],
   "source": [
    "y03_20['year_str'] = y03_20['Year'].apply(str) + \" Incident\""
   ]
  },
  {
   "cell_type": "code",
   "execution_count": null,
   "metadata": {},
   "outputs": [],
   "source": [
    "y03_20"
   ]
  },
  {
   "cell_type": "code",
   "execution_count": null,
   "metadata": {},
   "outputs": [],
   "source": [
    "import plotly.express as px\n",
    "# import chart_studio.plotly as py\n",
    "\n",
    "\n",
    "fig = px.box(y03_20, x=\"Month\", y=\"incident_acres_burned\", hover_name = \"year_str\", \n",
    "             color = \"Month\", hover_data = {'Month':False, 'incident_county':False, 'coastal_str':True, 'duration_str':True},\n",
    "             labels = {'incident_acres_burned' : 'Acres Burned', 'incident_county':'Affected Counties', \n",
    "                       'coastal_str':'Coastal Region', 'duration_str': 'Duration of Fire'}, \n",
    "             color_discrete_sequence=px.colors.qualitative.G10)\n",
    "fig.update_layout(title_text='Seasonal Disparity in Wildfire Damage', showlegend = False)\n",
    "\n",
    "# py.plot(fig, filename = 'boxplot_seasons', auto_open=True)\n",
    "fig.show()"
   ]
  },
  {
   "cell_type": "code",
   "execution_count": null,
   "metadata": {},
   "outputs": [],
   "source": [
    "s1 = y03_20.groupby(['Month']).agg({'incident_acres_burned':np.mean, 'Month':len, 'Duration':np.mean, 'is_coastal':np.mean})"
   ]
  },
  {
   "cell_type": "code",
   "execution_count": null,
   "metadata": {},
   "outputs": [],
   "source": [
    "s1"
   ]
  },
  {
   "cell_type": "code",
   "execution_count": null,
   "metadata": {},
   "outputs": [],
   "source": [
    "s1=s1.astype('float')"
   ]
  },
  {
   "cell_type": "code",
   "execution_count": null,
   "metadata": {},
   "outputs": [],
   "source": [
    "#Let's Normalize all our features\n",
    "from sklearn.preprocessing import MinMaxScaler\n",
    "norm=MinMaxScaler()\n",
    "scaled=norm.fit_transform(s1)\n",
    "scaled_df=pd.DataFrame(scaled,columns=s1.columns,index=s1.index)"
   ]
  },
  {
   "cell_type": "code",
   "execution_count": null,
   "metadata": {},
   "outputs": [],
   "source": [
    "# # Rescale our data back down between 0 and 1 \n",
    "# CO2rscale=MinMaxScaler()\n",
    "# scaled=norm.fit_transform(scaled_df)\n",
    "# train=pd.DataFrame(scaled,columns=scaled_df.columns,index=scaled_df.index)"
   ]
  },
  {
   "cell_type": "code",
   "execution_count": null,
   "metadata": {},
   "outputs": [],
   "source": [
    "scaled_df"
   ]
  },
  {
   "cell_type": "code",
   "execution_count": null,
   "metadata": {},
   "outputs": [],
   "source": [
    "scaled_df.rename(columns = {'Month': 'Num_Incidents'}, inplace = True)"
   ]
  },
  {
   "cell_type": "code",
   "execution_count": null,
   "metadata": {},
   "outputs": [],
   "source": [
    "# scaled_df.reset_index(inplace=True)\n",
    "# scaled_df = scaled_df.rename(columns = {'index':'Month'})"
   ]
  },
  {
   "cell_type": "code",
   "execution_count": null,
   "metadata": {},
   "outputs": [],
   "source": [
    "scaled_df"
   ]
  },
  {
   "cell_type": "code",
   "execution_count": null,
   "metadata": {},
   "outputs": [],
   "source": [
    "new_order = ['January', 'February', 'March', 'April', 'May', 'June', 'July', 'August', 'September', 'October', 'November', 'December']\n",
    "\n",
    "df1 = scaled_df.reindex(new_order, axis=0)"
   ]
  },
  {
   "cell_type": "code",
   "execution_count": null,
   "metadata": {},
   "outputs": [],
   "source": [
    "# Let's now perform KMeans Cluster \n",
    "from sklearn.cluster import KMeans\n",
    "kmeans=KMeans(n_clusters=2,random_state=1)\n",
    "kmeans.fit(df1)\n",
    "df1['Cluster']=kmeans.labels_"
   ]
  },
  {
   "cell_type": "code",
   "execution_count": null,
   "metadata": {},
   "outputs": [],
   "source": [
    "df1"
   ]
  },
  {
   "cell_type": "code",
   "execution_count": null,
   "metadata": {},
   "outputs": [],
   "source": [
    "df1.rename(columns = {'incident_acres_burned':'avg_acres_burned', 'Num_Incidents' : 'total_incidents', 'Duration' : 'avg_fire_duration',\n",
    "                     'is_coastal':'percent_coastal'}, inplace = True)"
   ]
  },
  {
   "cell_type": "code",
   "execution_count": null,
   "metadata": {},
   "outputs": [],
   "source": [
    "df1"
   ]
  },
  {
   "cell_type": "code",
   "execution_count": null,
   "metadata": {},
   "outputs": [],
   "source": [
    "new_order = ['January', 'February', 'March', 'April', 'May', 'June', 'July', 'August', 'September', 'October', 'November', 'December']\n",
    "\n",
    "s1 = s1.reindex(new_order, axis=0)"
   ]
  },
  {
   "cell_type": "code",
   "execution_count": null,
   "metadata": {},
   "outputs": [],
   "source": [
    "# Let's now perform KMeans Cluster \n",
    "from sklearn.cluster import KMeans\n",
    "kmeans=KMeans(n_clusters=2,random_state=1)\n",
    "kmeans.fit(s1)\n",
    "s1['Cluster']=kmeans.labels_"
   ]
  },
  {
   "cell_type": "code",
   "execution_count": null,
   "metadata": {},
   "outputs": [],
   "source": []
  },
  {
   "cell_type": "code",
   "execution_count": null,
   "metadata": {},
   "outputs": [],
   "source": []
  },
  {
   "cell_type": "code",
   "execution_count": null,
   "metadata": {},
   "outputs": [],
   "source": []
  },
  {
   "cell_type": "code",
   "execution_count": null,
   "metadata": {},
   "outputs": [],
   "source": []
  },
  {
   "cell_type": "code",
   "execution_count": null,
   "metadata": {},
   "outputs": [],
   "source": []
  },
  {
   "cell_type": "code",
   "execution_count": null,
   "metadata": {},
   "outputs": [],
   "source": [
    "summer = list(df1.index[df1['Cluster'] == 1])\n",
    "def get_season(val):\n",
    "    if val in summer:\n",
    "        return 'Summer Fire Season'\n",
    "    else:\n",
    "        return 'Santa Ana Fire Season'"
   ]
  },
  {
   "cell_type": "code",
   "execution_count": null,
   "metadata": {},
   "outputs": [],
   "source": [
    "list(df1.index[df1['Cluster'] == 1])"
   ]
  },
  {
   "cell_type": "code",
   "execution_count": null,
   "metadata": {},
   "outputs": [],
   "source": [
    "y03_20['Season'] = y03_20['Month'].apply(get_season)"
   ]
  },
  {
   "cell_type": "code",
   "execution_count": null,
   "metadata": {},
   "outputs": [],
   "source": [
    "y03_20"
   ]
  },
  {
   "cell_type": "code",
   "execution_count": null,
   "metadata": {},
   "outputs": [],
   "source": [
    "import plotly.express as px\n",
    "# import chart_studio.plotly as py\n",
    "\n",
    "\n",
    "fig = px.box(y03_20, x=\"Month\", y=\"incident_acres_burned\", hover_name = \"Season\", \n",
    "             color = \"Month\", hover_data = {'Month':False, 'incident_county':False, 'coastal_str':True, 'duration_str':True},\n",
    "             labels = {'incident_acres_burned' : 'Acres Burned', 'incident_county':'Affected Counties', \n",
    "                       'coastal_str':'Coastal Region', 'duration_str': 'Duration of Fire'}, \n",
    "             color_discrete_map={\"January\": \"orange\", \"February\": \"orange\", \"March\": \"orange\", \"April\": \"orange\",\n",
    "                \"May\": \"orange\", \"June\":\"red\", \"July\":\"red\",\"August\":\"red\",\"September\":\"red\", \"October\": \"orange\",\n",
    "                \"November\": \"orange\",\"December\": \"orange\"})\n",
    "\n",
    "fig.update_layout(title_text='Identifying Distinct Fire Seasons in California', showlegend = False)\n",
    "\n",
    "# py.plot(fig, filename = 'boxplot_distinct', auto_open=True)\n",
    "fig.show()"
   ]
  },
  {
   "cell_type": "code",
   "execution_count": null,
   "metadata": {},
   "outputs": [],
   "source": [
    "pop_income = pd.read_csv(\"pop_income.csv\")\n",
    "pop_income.head()\n"
   ]
  },
  {
   "cell_type": "code",
   "execution_count": null,
   "metadata": {},
   "outputs": [],
   "source": [
    "pd.options.mode.chained_assignment = None  # default='warn'"
   ]
  },
  {
   "cell_type": "code",
   "execution_count": null,
   "metadata": {},
   "outputs": [],
   "source": [
    "pop_income = pop_income.iloc[1:,:]\n",
    "pop_income['County'] = pop_income['County'] + \" County\""
   ]
  },
  {
   "cell_type": "code",
   "execution_count": null,
   "metadata": {},
   "outputs": [],
   "source": [
    "pop_income.rename(columns = {'County' : 'incident_county'}, inplace = True)"
   ]
  },
  {
   "cell_type": "code",
   "execution_count": null,
   "metadata": {},
   "outputs": [],
   "source": [
    "pop_income['FIPS'] = pop_income.incident_county.map(testCA.set_index('incident_county')['FIPS'].to_dict())"
   ]
  },
  {
   "cell_type": "code",
   "execution_count": null,
   "metadata": {},
   "outputs": [],
   "source": [
    "pop_income['incident_emoji'] = pop_income['incident_county'] + \"🏘️\""
   ]
  },
  {
   "cell_type": "code",
   "execution_count": null,
   "metadata": {},
   "outputs": [],
   "source": [
    "pop_income.head()"
   ]
  },
  {
   "cell_type": "code",
   "execution_count": null,
   "metadata": {},
   "outputs": [],
   "source": [
    "def remove(val):\n",
    "    return val.replace(',','').replace('$','')"
   ]
  },
  {
   "cell_type": "code",
   "execution_count": null,
   "metadata": {},
   "outputs": [],
   "source": [
    "pop_income['Per capita income'] = pop_income['Per capita income'].apply(remove).apply(int)"
   ]
  },
  {
   "cell_type": "code",
   "execution_count": null,
   "metadata": {},
   "outputs": [],
   "source": [
    "pop_income['Median household income'] = pop_income['Median household income'].apply(remove).apply(int)"
   ]
  },
  {
   "cell_type": "code",
   "execution_count": null,
   "metadata": {},
   "outputs": [],
   "source": [
    "pop_income['Median family income'] = pop_income['Median family income'].apply(remove).apply(int)"
   ]
  },
  {
   "cell_type": "code",
   "execution_count": null,
   "metadata": {},
   "outputs": [],
   "source": [
    "# import chart_studio\n",
    "# chart_studio.tools.set_credentials_file(username='xvbj', api_key='0dWXkKmhx7dP85gvlRNf')"
   ]
  },
  {
   "cell_type": "code",
   "execution_count": null,
   "metadata": {},
   "outputs": [],
   "source": [
    "verisk_data = pd.read_csv(\"Verisk_data.csv\")\n",
    "verisk_data['County'] = verisk_data['County'] + \" County\""
   ]
  },
  {
   "cell_type": "code",
   "execution_count": null,
   "metadata": {},
   "outputs": [],
   "source": [
    "testCA.head()"
   ]
  },
  {
   "cell_type": "code",
   "execution_count": null,
   "metadata": {},
   "outputs": [],
   "source": [
    "verisk_data['FIPS'] = verisk_data.County.map(testCA.set_index('incident_county')['FIPS'].to_dict())"
   ]
  },
  {
   "cell_type": "code",
   "execution_count": null,
   "metadata": {},
   "outputs": [],
   "source": [
    "verisk_data['Median Income'] = verisk_data.County.map(pop_income.set_index('incident_county')['Median household income'].to_dict())"
   ]
  },
  {
   "cell_type": "code",
   "execution_count": null,
   "metadata": {},
   "outputs": [],
   "source": [
    "verisk_data['County'] = verisk_data['County'] + \"🏘️\""
   ]
  },
  {
   "cell_type": "code",
   "execution_count": null,
   "metadata": {},
   "outputs": [],
   "source": [
    "verisk_data['Percent'] = verisk_data['High and Extreme %'].apply(str) + \"%\""
   ]
  },
  {
   "cell_type": "code",
   "execution_count": null,
   "metadata": {},
   "outputs": [],
   "source": [
    "verisk_data.head()"
   ]
  },
  {
   "cell_type": "code",
   "execution_count": null,
   "metadata": {},
   "outputs": [],
   "source": [
    "# import chart_studio\n",
    "# chart_studio.tools.set_credentials_file(username='dwightvj', api_key='pn71yD9C0HFjpESIbigR')"
   ]
  },
  {
   "cell_type": "code",
   "execution_count": null,
   "metadata": {},
   "outputs": [],
   "source": [
    "# show_named_plotly_colours()"
   ]
  },
  {
   "cell_type": "code",
   "execution_count": null,
   "metadata": {},
   "outputs": [],
   "source": [
    "from urllib.request import urlopen\n",
    "import json\n",
    "import pandas as pd\n",
    "import plotly.express as px\n",
    "# import datapane as dp \n",
    "# import chart_studio.plotly as py\n",
    "\n",
    "# dp.login(token=\"2d2d9a71f188e688bdb5a4a8592aefe7e672fda0\")\n",
    "\n",
    "with urlopen('https://raw.githubusercontent.com/plotly/datasets/master/geojson-counties-fips.json') as response:\n",
    "    counties = json.load(response)\n",
    "\n",
    "\n",
    "fig = px.choropleth_mapbox(verisk_data, geojson=counties, locations='FIPS', color= 'High and Extreme %',\n",
    "                           color_continuous_scale=[(0, 'blue'), (0.20, 'linen'), (0.75, 'red'), (1, 'maroon')],\n",
    "#                            color_continuous_scale = 'RdBu_r',\n",
    "#                            color_continuous_midpoint=20,\n",
    "                           hover_name = 'County',\n",
    "                           mapbox_style=\"carto-positron\",\n",
    "                           zoom=3.8, center = {\"lat\": 37.3, \"lon\": -119.4179},\n",
    "                           hover_data = {'High and Extreme %':False,'Percent':True, 'High And Extreme':False,  'FIPS':False},\n",
    "                           opacity=0.5,\n",
    "                           labels={'Percent': 'Percent of housing units in high to<br>extreme risk',\n",
    "                                   'High and Extreme %': 'Percent of Homes'},\n",
    "                           title = 'Percent of at Risk Households by County'\n",
    "                          )\n",
    "\n",
    "fig.update_layout(autosize = True)\n",
    "\n",
    "# fig.write_html(\"firemap2.html\")\n",
    "# py.plot(fig, filename = 'firemap1', auto_open=True)\n",
    "fig.show()\n",
    "\n",
    "# report = dp.Report(dp.Plot(fig) ) #Create a report\n",
    "# report.publish(name='firemap2', open=True, visibility='PUBLIC') #Publish the report\n"
   ]
  },
  {
   "cell_type": "code",
   "execution_count": null,
   "metadata": {},
   "outputs": [],
   "source": [
    "from urllib.request import urlopen\n",
    "import json\n",
    "import pandas as pd\n",
    "import plotly.express as px\n",
    "# import datapane as dp \n",
    "# import chart_studio.plotly as py\n",
    "\n",
    "# dp.login(token=\"2d2d9a71f188e688bdb5a4a8592aefe7e672fda0\")\n",
    "\n",
    "with urlopen('https://raw.githubusercontent.com/plotly/datasets/master/geojson-counties-fips.json') as response:\n",
    "    counties = json.load(response)\n",
    "\n",
    "\n",
    "fig = px.choropleth_mapbox(pop_income, geojson=counties, locations='FIPS', color= 'Median household income',\n",
    "                           color_continuous_scale=\"inferno\",\n",
    "                           hover_name = 'incident_emoji',\n",
    "                           mapbox_style=\"carto-positron\",\n",
    "                           zoom=3.8, center = {\"lat\": 37.3, \"lon\": -119.4179},\n",
    "                           hover_data = {'Median household income':True, 'FIPS':False, 'Population':True},\n",
    "                           opacity=0.5,\n",
    "                           labels={'Median household income':'Income (USD)'},\n",
    "                           title = 'Median Household Income by County'\n",
    "                          )\n",
    "\n",
    "fig.update_layout(autosize = True)\n",
    "\n",
    "# fig.write_html(\"firemap2.html\")\n",
    "# py.plot(fig, filename = 'firemap1', auto_open=True)\n",
    "fig.show()\n",
    "\n",
    "# report = dp.Report(dp.Plot(fig) ) #Create a report\n",
    "# report.publish(name='firemap2', open=True, visibility='PUBLIC') #Publish the report\n"
   ]
  },
  {
   "cell_type": "code",
   "execution_count": null,
   "metadata": {},
   "outputs": [],
   "source": [
    "# subset = subset.dropna().reset_index(drop = True)"
   ]
  },
  {
   "cell_type": "code",
   "execution_count": null,
   "metadata": {},
   "outputs": [],
   "source": [
    "new_df.to_csv(\"CSP3.csv\", index = False)"
   ]
  },
  {
   "cell_type": "code",
   "execution_count": null,
   "metadata": {},
   "outputs": [],
   "source": [
    "# import pandas as pd\n",
    "# import numpy as np\n",
    "# import matplotlib.pyplot as plt\n",
    "# import six\n",
    "\n",
    "# # df = pd.DataFrame()\n",
    "# # df['date'] = ['2016-04-01', '2016-04-02', '2016-04-03']\n",
    "# # df['calories'] = [2200, 2100, 1500]\n",
    "# # df['sleep hours'] = [2200, 2100, 1500]\n",
    "# # df['gym'] = [True, False, False]\n",
    "\n",
    "\n",
    "# def render_mpl_table(data, col_width=3.4, row_height=0.625, font_size=13,\n",
    "#                      header_color='#40466e', row_colors=['#f1f1f2', 'w'], edge_color='w',\n",
    "#                      bbox=[0, 0, 1, 1], header_columns=0,\n",
    "#                      ax=None, **kwargs):\n",
    "#     if ax is None:\n",
    "#         size = (np.array(data.shape[::-1]) + np.array([0, 1])) * np.array([col_width, row_height])\n",
    "#         fig, ax = plt.subplots(figsize=size)\n",
    "#         ax.axis('off')\n",
    "\n",
    "#     mpl_table = ax.table(cellText=data.values, bbox=bbox, colLabels=data.columns, **kwargs)\n",
    "\n",
    "#     mpl_table.auto_set_font_size(False)\n",
    "#     mpl_table.set_fontsize(font_size)\n",
    "\n",
    "#     for k, cell in  six.iteritems(mpl_table._cells):\n",
    "#         cell.set_edgecolor(edge_color)\n",
    "#         if k[0] == 0 or k[1] < header_columns:\n",
    "#             cell.set_text_props(weight='bold', color='w')\n",
    "#             cell.set_facecolor(header_color)\n",
    "#         else:\n",
    "#             cell.set_facecolor(row_colors[k[0]%len(row_colors) ])\n",
    "#     return ax"
   ]
  },
  {
   "cell_type": "code",
   "execution_count": null,
   "metadata": {},
   "outputs": [],
   "source": [
    "# df = pd.DataFrame()\n",
    "# df['Incident Name'] = ['North Complex Fire','Carr Fire','Cedar Fire']\n",
    "# df['County'] = ['Butte, Plumas & Yuba','Shasta County & Trinity','San Diego']\n",
    "# df['Acres Burned'] = ['318,930','229,651','273,246']\n",
    "# df['Fatalities'] = [15,8,15]\n",
    "# df['Structures Destroyed'] = ['2,352','1,614','2,820']"
   ]
  },
  {
   "cell_type": "code",
   "execution_count": null,
   "metadata": {},
   "outputs": [],
   "source": [
    "# render_mpl_table(df);"
   ]
  }
 ],
 "metadata": {
  "kernelspec": {
   "display_name": "Python 3",
   "language": "python",
   "name": "python3"
  },
  "language_info": {
   "codemirror_mode": {
    "name": "ipython",
    "version": 3
   },
   "file_extension": ".py",
   "mimetype": "text/x-python",
   "name": "python",
   "nbconvert_exporter": "python",
   "pygments_lexer": "ipython3",
   "version": "3.8.5"
  }
 },
 "nbformat": 4,
 "nbformat_minor": 4
}
