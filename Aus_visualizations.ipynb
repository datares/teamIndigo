{
  "nbformat": 4,
  "nbformat_minor": 0,
  "metadata": {
    "colab": {
      "name": "Aus_visualizations.ipynb",
      "provenance": []
    },
    "kernelspec": {
      "name": "python3",
      "display_name": "Python 3"
    }
  },
  "cells": [
    {
      "cell_type": "markdown",
      "metadata": {
        "id": "TgtGzdnzMEtg"
      },
      "source": [
        "# Importing packages"
      ]
    },
    {
      "cell_type": "code",
      "metadata": {
        "id": "NUtN3px2l1LA"
      },
      "source": [
        "import numpy as np\n",
        "import pandas as pd\n",
        "import plotly.express as px"
      ],
      "execution_count": 8,
      "outputs": []
    },
    {
      "cell_type": "markdown",
      "metadata": {
        "id": "t14ew4pzML8z"
      },
      "source": [
        "# Importing and viewing data\n",
        "The data includes all fires from 2019 and January 2020, and was sourced from NASA. "
      ]
    },
    {
      "cell_type": "code",
      "metadata": {
        "id": "SyqZF0AUpb38",
        "outputId": "88dd3d81-ec07-4842-812e-bbb652ebd4c7",
        "colab": {
          "base_uri": "https://localhost:8080/",
          "height": 202
        }
      },
      "source": [
        "aus = pd.read_csv(\"aus1920.csv\")\n",
        "aus.dropna()\n",
        "aus.head()"
      ],
      "execution_count": 20,
      "outputs": [
        {
          "output_type": "execute_result",
          "data": {
            "text/html": [
              "<div>\n",
              "<style scoped>\n",
              "    .dataframe tbody tr th:only-of-type {\n",
              "        vertical-align: middle;\n",
              "    }\n",
              "\n",
              "    .dataframe tbody tr th {\n",
              "        vertical-align: top;\n",
              "    }\n",
              "\n",
              "    .dataframe thead th {\n",
              "        text-align: right;\n",
              "    }\n",
              "</style>\n",
              "<table border=\"1\" class=\"dataframe\">\n",
              "  <thead>\n",
              "    <tr style=\"text-align: right;\">\n",
              "      <th></th>\n",
              "      <th>latitude</th>\n",
              "      <th>longitude</th>\n",
              "      <th>acq_date</th>\n",
              "      <th>acq_time</th>\n",
              "      <th>frp</th>\n",
              "    </tr>\n",
              "  </thead>\n",
              "  <tbody>\n",
              "    <tr>\n",
              "      <th>0</th>\n",
              "      <td>-35.043732</td>\n",
              "      <td>150.404648</td>\n",
              "      <td>2019-01-01</td>\n",
              "      <td>401</td>\n",
              "      <td>3.98</td>\n",
              "    </tr>\n",
              "    <tr>\n",
              "      <th>1</th>\n",
              "      <td>-35.042820</td>\n",
              "      <td>150.409607</td>\n",
              "      <td>2019-01-01</td>\n",
              "      <td>401</td>\n",
              "      <td>3.98</td>\n",
              "    </tr>\n",
              "    <tr>\n",
              "      <th>2</th>\n",
              "      <td>-35.045658</td>\n",
              "      <td>150.408020</td>\n",
              "      <td>2019-01-01</td>\n",
              "      <td>401</td>\n",
              "      <td>8.77</td>\n",
              "    </tr>\n",
              "    <tr>\n",
              "      <th>3</th>\n",
              "      <td>-34.454861</td>\n",
              "      <td>150.876755</td>\n",
              "      <td>2019-01-01</td>\n",
              "      <td>401</td>\n",
              "      <td>5.94</td>\n",
              "    </tr>\n",
              "    <tr>\n",
              "      <th>4</th>\n",
              "      <td>-34.461185</td>\n",
              "      <td>150.883896</td>\n",
              "      <td>2019-01-01</td>\n",
              "      <td>401</td>\n",
              "      <td>9.41</td>\n",
              "    </tr>\n",
              "  </tbody>\n",
              "</table>\n",
              "</div>"
            ],
            "text/plain": [
              "    latitude   longitude    acq_date  acq_time   frp\n",
              "0 -35.043732  150.404648  2019-01-01       401  3.98\n",
              "1 -35.042820  150.409607  2019-01-01       401  3.98\n",
              "2 -35.045658  150.408020  2019-01-01       401  8.77\n",
              "3 -34.454861  150.876755  2019-01-01       401  5.94\n",
              "4 -34.461185  150.883896  2019-01-01       401  9.41"
            ]
          },
          "metadata": {
            "tags": []
          },
          "execution_count": 20
        }
      ]
    },
    {
      "cell_type": "markdown",
      "metadata": {
        "id": "PLOZYmpfPJ24"
      },
      "source": [
        "# Selecting the 100 worst fires\n",
        "\n",
        "We sort by fire radiation power (frp) and pick the 100 worst fires to plot"
      ]
    },
    {
      "cell_type": "code",
      "metadata": {
        "id": "bWuuOkxXPIUO"
      },
      "source": [
        "aus_worst = aus.sort_values(by='frp',ascending=False).head(100)"
      ],
      "execution_count": 29,
      "outputs": []
    },
    {
      "cell_type": "markdown",
      "metadata": {
        "id": "35Prj5n6MZ9f"
      },
      "source": [
        "# Mapping the data"
      ]
    },
    {
      "cell_type": "code",
      "metadata": {
        "id": "gqDzS-X0Mpsz",
        "outputId": "d9f6c6c0-7d67-4831-c3dc-7f4688b8650e",
        "colab": {
          "base_uri": "https://localhost:8080/",
          "height": 542
        }
      },
      "source": [
        "fig = px.scatter_geo(aus_worst,\n",
        "                        lat= 'latitude', lon='longitude', \n",
        "                        opacity = 0.5, size = 'frp', color = 'frp',\n",
        "                        color_continuous_scale=px.colors.sequential.Reds)\n",
        "fig.update_geos(lataxis_range=[-50,0], lonaxis_range=[100, 180])\n",
        "\n",
        "fig.show()"
      ],
      "execution_count": 49,
      "outputs": [
        {
          "output_type": "display_data",
          "data": {
            "text/html": [
              "<html>\n",
              "<head><meta charset=\"utf-8\" /></head>\n",
              "<body>\n",
              "    <div>\n",
              "            <script src=\"https://cdnjs.cloudflare.com/ajax/libs/mathjax/2.7.5/MathJax.js?config=TeX-AMS-MML_SVG\"></script><script type=\"text/javascript\">if (window.MathJax) {MathJax.Hub.Config({SVG: {font: \"STIX-Web\"}});}</script>\n",
              "                <script type=\"text/javascript\">window.PlotlyConfig = {MathJaxConfig: 'local'};</script>\n",
              "        <script src=\"https://cdn.plot.ly/plotly-latest.min.js\"></script>    \n",
              "            <div id=\"c83416ec-83d7-4903-99e5-dd2895c23cf6\" class=\"plotly-graph-div\" style=\"height:525px; width:100%;\"></div>\n",
              "            <script type=\"text/javascript\">\n",
              "                \n",
              "                    window.PLOTLYENV=window.PLOTLYENV || {};\n",
              "                    \n",
              "                if (document.getElementById(\"c83416ec-83d7-4903-99e5-dd2895c23cf6\")) {\n",
              "                    Plotly.newPlot(\n",
              "                        'c83416ec-83d7-4903-99e5-dd2895c23cf6',\n",
              "                        [{\"geo\": \"geo\", \"hoverlabel\": {\"namelength\": 0}, \"hovertemplate\": \"frp=%{marker.color}<br>latitude=%{lat}<br>longitude=%{lon}\", \"lat\": [-29.557315999999997, -29.556996999999996, -29.522369, -29.522049, -29.516440999999997, -29.505215000000003, -29.51083, -29.511146999999998, -29.499607, -29.499914, -29.493979, -29.502108000000003, -29.508021999999997, -29.507715, -29.461266, -29.455345, -29.460966, -29.491503, -29.491191999999998, -29.497428999999997, -29.468096000000003, -29.474031, -29.474328999999997, -29.503658, -29.503969, -29.509577, -29.461567, -29.461864000000002, -29.455941999999997, -30.4163, -29.56431, -29.564634, -29.558722999999997, -29.535830999999998, -29.529891999999997, -29.530214, -30.3486, -29.552149, -30.4245, -29.522686, -29.516762, -29.523008, -29.517078, -29.485267999999998, -29.479349, -29.479656, -29.485578999999998, -29.568527000000003, -29.562604999999998, -29.562284000000002, -29.512093, -29.512407, -29.506161, -29.506467999999998, -29.511469, -29.50585, -29.505533000000003, -29.511782, -29.508644, -29.502722, -29.502419, -29.508333, -29.523325, -29.523643, -29.517396999999995, -29.517714, -29.513941, -29.519558, -29.519869, -29.513634000000003, -29.480268, -29.485889, -29.479963, -29.486196999999997, -29.497744, -29.498051, -29.492125, -29.491816999999998, -29.503033000000002, -29.503346999999998, -29.509265999999997, -29.508951, -29.473421000000002, -29.473724, -29.467491, -29.467793, -29.568851000000002, -29.562922999999998, -29.569174, -37.7407, -37.6664, -29.565278999999997, -29.559368, -29.559044, -29.564954999999998, -37.6927, -37.6795, -37.7164, -37.6901, -37.5314], \"legendgroup\": \"\", \"lon\": [123.86516599999999, 123.869881, 123.852776, 123.857651, 123.85225700000001, 123.84137, 123.84681699999999, 123.841904, 123.835838, 123.83096299999998, 123.83045200000001, 123.889656, 123.890121, 123.89492, 123.876846, 123.87636599999999, 123.88168300000001, 123.86936200000001, 123.87423700000001, 123.86983500000001, 123.862747, 123.863129, 123.85830700000001, 123.865578, 123.86077900000001, 123.86618, 123.872025, 123.86718799999998, 123.86666899999999, 152.2871, 123.93718700000001, 123.93249499999999, 123.932045, 123.829498, 123.82901000000001, 123.824104, 120.6423, 123.89646100000002, 152.293, 123.847885, 123.847351, 123.842995, 123.842453, 123.873756, 123.873222, 123.868362, 123.868866, 123.87554899999999, 123.875069, 123.87975300000001, 123.82725500000001, 123.822433, 123.826645, 123.82186100000001, 123.836975, 123.831497, 123.83641100000001, 123.83209199999999, 123.8806, 123.880074, 123.88485, 123.88535300000001, 123.83811999999999, 123.83328200000001, 123.837547, 123.832695, 123.890602, 123.895668, 123.890984, 123.89531699999999, 123.858704, 123.863991, 123.86351, 123.859131, 123.864975, 123.86016799999999, 123.859604, 123.864456, 123.875244, 123.870415, 123.871002, 123.875824, 123.872818, 123.867981, 123.872421, 123.867599, 123.870834, 123.870384, 123.866096, 149.3715, 149.4099, 123.92308799999999, 123.92258500000001, 123.92733799999999, 123.927811, 149.4072, 149.4085, 149.4001, 149.4024, 147.8042], \"marker\": {\"color\": [8895.72, 8895.72, 7595.21, 7595.21, 7595.21, 7557.0, 7557.0, 7557.0, 7523.85, 7523.85, 7523.85, 7502.89, 7502.89, 7502.89, 7501.1, 7501.1, 7501.1, 7491.72, 7491.72, 7491.72, 7484.69, 7484.69, 7484.69, 7478.42, 7478.42, 7478.42, 7469.09, 7469.09, 7469.09, 7401.4, 7399.94, 7399.94, 7399.94, 6913.07, 6913.07, 6913.07, 6563.7, 6549.29, 6353.5, 5695.87, 5695.87, 5695.87, 5695.87, 5689.82, 5689.82, 5689.82, 5689.82, 5672.92, 5672.92, 5672.92, 5658.44, 5658.44, 5658.44, 5658.44, 5655.09, 5655.09, 5655.09, 5655.09, 5650.69, 5650.69, 5650.69, 5650.69, 5644.23, 5644.23, 5644.23, 5644.23, 5639.79, 5639.79, 5639.79, 5639.79, 5628.05, 5628.05, 5628.05, 5628.05, 5612.7, 5612.7, 5612.7, 5612.7, 5611.35, 5611.35, 5611.35, 5611.35, 5610.47, 5610.47, 5610.47, 5610.47, 5609.8, 5609.8, 5609.8, 5587.7, 5561.1, 5548.48, 5548.48, 5548.48, 5548.48, 5534.4, 5511.1, 5507.6, 5491.8, 5485.2], \"coloraxis\": \"coloraxis\", \"opacity\": 0.5, \"size\": [8895.72, 8895.72, 7595.21, 7595.21, 7595.21, 7557.0, 7557.0, 7557.0, 7523.85, 7523.85, 7523.85, 7502.89, 7502.89, 7502.89, 7501.1, 7501.1, 7501.1, 7491.72, 7491.72, 7491.72, 7484.69, 7484.69, 7484.69, 7478.42, 7478.42, 7478.42, 7469.09, 7469.09, 7469.09, 7401.4, 7399.94, 7399.94, 7399.94, 6913.07, 6913.07, 6913.07, 6563.7, 6549.29, 6353.5, 5695.87, 5695.87, 5695.87, 5695.87, 5689.82, 5689.82, 5689.82, 5689.82, 5672.92, 5672.92, 5672.92, 5658.44, 5658.44, 5658.44, 5658.44, 5655.09, 5655.09, 5655.09, 5655.09, 5650.69, 5650.69, 5650.69, 5650.69, 5644.23, 5644.23, 5644.23, 5644.23, 5639.79, 5639.79, 5639.79, 5639.79, 5628.05, 5628.05, 5628.05, 5628.05, 5612.7, 5612.7, 5612.7, 5612.7, 5611.35, 5611.35, 5611.35, 5611.35, 5610.47, 5610.47, 5610.47, 5610.47, 5609.8, 5609.8, 5609.8, 5587.7, 5561.1, 5548.48, 5548.48, 5548.48, 5548.48, 5534.4, 5511.1, 5507.6, 5491.8, 5485.2], \"sizemode\": \"area\", \"sizeref\": 22.2393}, \"name\": \"\", \"showlegend\": false, \"type\": \"scattergeo\"}],\n",
              "                        {\"coloraxis\": {\"colorbar\": {\"title\": {\"text\": \"frp\"}}, \"colorscale\": [[0.0, \"rgb(255,245,240)\"], [0.125, \"rgb(254,224,210)\"], [0.25, \"rgb(252,187,161)\"], [0.375, \"rgb(252,146,114)\"], [0.5, \"rgb(251,106,74)\"], [0.625, \"rgb(239,59,44)\"], [0.75, \"rgb(203,24,29)\"], [0.875, \"rgb(165,15,21)\"], [1.0, \"rgb(103,0,13)\"]]}, \"geo\": {\"center\": {}, \"domain\": {\"x\": [0.0, 1.0], \"y\": [0.0, 1.0]}, \"lataxis\": {\"range\": [-50, 0]}, \"lonaxis\": {\"range\": [100, 180]}}, \"legend\": {\"itemsizing\": \"constant\", \"tracegroupgap\": 0}, \"margin\": {\"t\": 60}, \"template\": {\"data\": {\"bar\": [{\"error_x\": {\"color\": \"#2a3f5f\"}, \"error_y\": {\"color\": \"#2a3f5f\"}, \"marker\": {\"line\": {\"color\": \"#E5ECF6\", \"width\": 0.5}}, \"type\": \"bar\"}], \"barpolar\": [{\"marker\": {\"line\": {\"color\": \"#E5ECF6\", \"width\": 0.5}}, \"type\": \"barpolar\"}], \"carpet\": [{\"aaxis\": {\"endlinecolor\": \"#2a3f5f\", \"gridcolor\": \"white\", \"linecolor\": \"white\", \"minorgridcolor\": \"white\", \"startlinecolor\": \"#2a3f5f\"}, \"baxis\": {\"endlinecolor\": \"#2a3f5f\", \"gridcolor\": \"white\", \"linecolor\": \"white\", \"minorgridcolor\": \"white\", \"startlinecolor\": \"#2a3f5f\"}, \"type\": \"carpet\"}], \"choropleth\": [{\"colorbar\": {\"outlinewidth\": 0, \"ticks\": \"\"}, \"type\": \"choropleth\"}], \"contour\": [{\"colorbar\": {\"outlinewidth\": 0, \"ticks\": \"\"}, \"colorscale\": [[0.0, \"#0d0887\"], [0.1111111111111111, \"#46039f\"], [0.2222222222222222, \"#7201a8\"], [0.3333333333333333, \"#9c179e\"], [0.4444444444444444, \"#bd3786\"], [0.5555555555555556, \"#d8576b\"], [0.6666666666666666, \"#ed7953\"], [0.7777777777777778, \"#fb9f3a\"], [0.8888888888888888, \"#fdca26\"], [1.0, \"#f0f921\"]], \"type\": \"contour\"}], \"contourcarpet\": [{\"colorbar\": {\"outlinewidth\": 0, \"ticks\": \"\"}, \"type\": \"contourcarpet\"}], \"heatmap\": [{\"colorbar\": {\"outlinewidth\": 0, \"ticks\": \"\"}, \"colorscale\": [[0.0, \"#0d0887\"], [0.1111111111111111, \"#46039f\"], [0.2222222222222222, \"#7201a8\"], [0.3333333333333333, \"#9c179e\"], [0.4444444444444444, \"#bd3786\"], [0.5555555555555556, \"#d8576b\"], [0.6666666666666666, \"#ed7953\"], [0.7777777777777778, \"#fb9f3a\"], [0.8888888888888888, \"#fdca26\"], [1.0, \"#f0f921\"]], \"type\": \"heatmap\"}], \"heatmapgl\": [{\"colorbar\": {\"outlinewidth\": 0, \"ticks\": \"\"}, \"colorscale\": [[0.0, \"#0d0887\"], [0.1111111111111111, \"#46039f\"], [0.2222222222222222, \"#7201a8\"], [0.3333333333333333, \"#9c179e\"], [0.4444444444444444, \"#bd3786\"], [0.5555555555555556, \"#d8576b\"], [0.6666666666666666, \"#ed7953\"], [0.7777777777777778, \"#fb9f3a\"], [0.8888888888888888, \"#fdca26\"], [1.0, \"#f0f921\"]], \"type\": \"heatmapgl\"}], \"histogram\": [{\"marker\": {\"colorbar\": {\"outlinewidth\": 0, \"ticks\": \"\"}}, \"type\": \"histogram\"}], \"histogram2d\": [{\"colorbar\": {\"outlinewidth\": 0, \"ticks\": \"\"}, \"colorscale\": [[0.0, \"#0d0887\"], [0.1111111111111111, \"#46039f\"], [0.2222222222222222, \"#7201a8\"], [0.3333333333333333, \"#9c179e\"], [0.4444444444444444, \"#bd3786\"], [0.5555555555555556, \"#d8576b\"], [0.6666666666666666, \"#ed7953\"], [0.7777777777777778, \"#fb9f3a\"], [0.8888888888888888, \"#fdca26\"], [1.0, \"#f0f921\"]], \"type\": \"histogram2d\"}], \"histogram2dcontour\": [{\"colorbar\": {\"outlinewidth\": 0, \"ticks\": \"\"}, \"colorscale\": [[0.0, \"#0d0887\"], [0.1111111111111111, \"#46039f\"], [0.2222222222222222, \"#7201a8\"], [0.3333333333333333, \"#9c179e\"], [0.4444444444444444, \"#bd3786\"], [0.5555555555555556, \"#d8576b\"], [0.6666666666666666, \"#ed7953\"], [0.7777777777777778, \"#fb9f3a\"], [0.8888888888888888, \"#fdca26\"], [1.0, \"#f0f921\"]], \"type\": \"histogram2dcontour\"}], \"mesh3d\": [{\"colorbar\": {\"outlinewidth\": 0, \"ticks\": \"\"}, \"type\": \"mesh3d\"}], \"parcoords\": [{\"line\": {\"colorbar\": {\"outlinewidth\": 0, \"ticks\": \"\"}}, \"type\": \"parcoords\"}], \"pie\": [{\"automargin\": true, \"type\": \"pie\"}], \"scatter\": [{\"marker\": {\"colorbar\": {\"outlinewidth\": 0, \"ticks\": \"\"}}, \"type\": \"scatter\"}], \"scatter3d\": [{\"line\": {\"colorbar\": {\"outlinewidth\": 0, \"ticks\": \"\"}}, \"marker\": {\"colorbar\": {\"outlinewidth\": 0, \"ticks\": \"\"}}, \"type\": \"scatter3d\"}], \"scattercarpet\": [{\"marker\": {\"colorbar\": {\"outlinewidth\": 0, \"ticks\": \"\"}}, \"type\": \"scattercarpet\"}], \"scattergeo\": [{\"marker\": {\"colorbar\": {\"outlinewidth\": 0, \"ticks\": \"\"}}, \"type\": \"scattergeo\"}], \"scattergl\": [{\"marker\": {\"colorbar\": {\"outlinewidth\": 0, \"ticks\": \"\"}}, \"type\": \"scattergl\"}], \"scattermapbox\": [{\"marker\": {\"colorbar\": {\"outlinewidth\": 0, \"ticks\": \"\"}}, \"type\": \"scattermapbox\"}], \"scatterpolar\": [{\"marker\": {\"colorbar\": {\"outlinewidth\": 0, \"ticks\": \"\"}}, \"type\": \"scatterpolar\"}], \"scatterpolargl\": [{\"marker\": {\"colorbar\": {\"outlinewidth\": 0, \"ticks\": \"\"}}, \"type\": \"scatterpolargl\"}], \"scatterternary\": [{\"marker\": {\"colorbar\": {\"outlinewidth\": 0, \"ticks\": \"\"}}, \"type\": \"scatterternary\"}], \"surface\": [{\"colorbar\": {\"outlinewidth\": 0, \"ticks\": \"\"}, \"colorscale\": [[0.0, \"#0d0887\"], [0.1111111111111111, \"#46039f\"], [0.2222222222222222, \"#7201a8\"], [0.3333333333333333, \"#9c179e\"], [0.4444444444444444, \"#bd3786\"], [0.5555555555555556, \"#d8576b\"], [0.6666666666666666, \"#ed7953\"], [0.7777777777777778, \"#fb9f3a\"], [0.8888888888888888, \"#fdca26\"], [1.0, \"#f0f921\"]], \"type\": \"surface\"}], \"table\": [{\"cells\": {\"fill\": {\"color\": \"#EBF0F8\"}, \"line\": {\"color\": \"white\"}}, \"header\": {\"fill\": {\"color\": \"#C8D4E3\"}, \"line\": {\"color\": \"white\"}}, \"type\": \"table\"}]}, \"layout\": {\"annotationdefaults\": {\"arrowcolor\": \"#2a3f5f\", \"arrowhead\": 0, \"arrowwidth\": 1}, \"coloraxis\": {\"colorbar\": {\"outlinewidth\": 0, \"ticks\": \"\"}}, \"colorscale\": {\"diverging\": [[0, \"#8e0152\"], [0.1, \"#c51b7d\"], [0.2, \"#de77ae\"], [0.3, \"#f1b6da\"], [0.4, \"#fde0ef\"], [0.5, \"#f7f7f7\"], [0.6, \"#e6f5d0\"], [0.7, \"#b8e186\"], [0.8, \"#7fbc41\"], [0.9, \"#4d9221\"], [1, \"#276419\"]], \"sequential\": [[0.0, \"#0d0887\"], [0.1111111111111111, \"#46039f\"], [0.2222222222222222, \"#7201a8\"], [0.3333333333333333, \"#9c179e\"], [0.4444444444444444, \"#bd3786\"], [0.5555555555555556, \"#d8576b\"], [0.6666666666666666, \"#ed7953\"], [0.7777777777777778, \"#fb9f3a\"], [0.8888888888888888, \"#fdca26\"], [1.0, \"#f0f921\"]], \"sequentialminus\": [[0.0, \"#0d0887\"], [0.1111111111111111, \"#46039f\"], [0.2222222222222222, \"#7201a8\"], [0.3333333333333333, \"#9c179e\"], [0.4444444444444444, \"#bd3786\"], [0.5555555555555556, \"#d8576b\"], [0.6666666666666666, \"#ed7953\"], [0.7777777777777778, \"#fb9f3a\"], [0.8888888888888888, \"#fdca26\"], [1.0, \"#f0f921\"]]}, \"colorway\": [\"#636efa\", \"#EF553B\", \"#00cc96\", \"#ab63fa\", \"#FFA15A\", \"#19d3f3\", \"#FF6692\", \"#B6E880\", \"#FF97FF\", \"#FECB52\"], \"font\": {\"color\": \"#2a3f5f\"}, \"geo\": {\"bgcolor\": \"white\", \"lakecolor\": \"white\", \"landcolor\": \"#E5ECF6\", \"showlakes\": true, \"showland\": true, \"subunitcolor\": \"white\"}, \"hoverlabel\": {\"align\": \"left\"}, \"hovermode\": \"closest\", \"mapbox\": {\"style\": \"light\"}, \"paper_bgcolor\": \"white\", \"plot_bgcolor\": \"#E5ECF6\", \"polar\": {\"angularaxis\": {\"gridcolor\": \"white\", \"linecolor\": \"white\", \"ticks\": \"\"}, \"bgcolor\": \"#E5ECF6\", \"radialaxis\": {\"gridcolor\": \"white\", \"linecolor\": \"white\", \"ticks\": \"\"}}, \"scene\": {\"xaxis\": {\"backgroundcolor\": \"#E5ECF6\", \"gridcolor\": \"white\", \"gridwidth\": 2, \"linecolor\": \"white\", \"showbackground\": true, \"ticks\": \"\", \"zerolinecolor\": \"white\"}, \"yaxis\": {\"backgroundcolor\": \"#E5ECF6\", \"gridcolor\": \"white\", \"gridwidth\": 2, \"linecolor\": \"white\", \"showbackground\": true, \"ticks\": \"\", \"zerolinecolor\": \"white\"}, \"zaxis\": {\"backgroundcolor\": \"#E5ECF6\", \"gridcolor\": \"white\", \"gridwidth\": 2, \"linecolor\": \"white\", \"showbackground\": true, \"ticks\": \"\", \"zerolinecolor\": \"white\"}}, \"shapedefaults\": {\"line\": {\"color\": \"#2a3f5f\"}}, \"ternary\": {\"aaxis\": {\"gridcolor\": \"white\", \"linecolor\": \"white\", \"ticks\": \"\"}, \"baxis\": {\"gridcolor\": \"white\", \"linecolor\": \"white\", \"ticks\": \"\"}, \"bgcolor\": \"#E5ECF6\", \"caxis\": {\"gridcolor\": \"white\", \"linecolor\": \"white\", \"ticks\": \"\"}}, \"title\": {\"x\": 0.05}, \"xaxis\": {\"automargin\": true, \"gridcolor\": \"white\", \"linecolor\": \"white\", \"ticks\": \"\", \"title\": {\"standoff\": 15}, \"zerolinecolor\": \"white\", \"zerolinewidth\": 2}, \"yaxis\": {\"automargin\": true, \"gridcolor\": \"white\", \"linecolor\": \"white\", \"ticks\": \"\", \"title\": {\"standoff\": 15}, \"zerolinecolor\": \"white\", \"zerolinewidth\": 2}}}},\n",
              "                        {\"responsive\": true}\n",
              "                    ).then(function(){\n",
              "                            \n",
              "var gd = document.getElementById('c83416ec-83d7-4903-99e5-dd2895c23cf6');\n",
              "var x = new MutationObserver(function (mutations, observer) {{\n",
              "        var display = window.getComputedStyle(gd).display;\n",
              "        if (!display || display === 'none') {{\n",
              "            console.log([gd, 'removed!']);\n",
              "            Plotly.purge(gd);\n",
              "            observer.disconnect();\n",
              "        }}\n",
              "}});\n",
              "\n",
              "// Listen for the removal of the full notebook cells\n",
              "var notebookContainer = gd.closest('#notebook-container');\n",
              "if (notebookContainer) {{\n",
              "    x.observe(notebookContainer, {childList: true});\n",
              "}}\n",
              "\n",
              "// Listen for the clearing of the current output cell\n",
              "var outputEl = gd.closest('.output');\n",
              "if (outputEl) {{\n",
              "    x.observe(outputEl, {childList: true});\n",
              "}}\n",
              "\n",
              "                        })\n",
              "                };\n",
              "                \n",
              "            </script>\n",
              "        </div>\n",
              "</body>\n",
              "</html>"
            ]
          },
          "metadata": {
            "tags": []
          }
        }
      ]
    }
  ]
}