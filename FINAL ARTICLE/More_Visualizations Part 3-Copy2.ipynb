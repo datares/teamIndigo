{
 "cells": [
  {
   "cell_type": "code",
   "execution_count": null,
   "metadata": {},
   "outputs": [],
   "source": [
    "import pandas as pd\n",
    "CA = pd.read_csv('mapdataall.csv')"
   ]
  },
  {
   "cell_type": "code",
   "execution_count": null,
   "metadata": {},
   "outputs": [],
   "source": [
    "CA.shape"
   ]
  },
  {
   "cell_type": "code",
   "execution_count": null,
   "metadata": {},
   "outputs": [],
   "source": [
    "df = pd.read_fwf('national_county.txt')\n",
    "df.to_csv('national_county.csv')"
   ]
  },
  {
   "cell_type": "code",
   "execution_count": null,
   "metadata": {},
   "outputs": [],
   "source": [
    "CA.columns"
   ]
  },
  {
   "cell_type": "code",
   "execution_count": null,
   "metadata": {},
   "outputs": [],
   "source": [
    "df = CA[['incident_acres_burned','incident_county','incident_date_extinguished', 'incident_containment', 'incident_name']]"
   ]
  },
  {
   "cell_type": "code",
   "execution_count": null,
   "metadata": {},
   "outputs": [],
   "source": [
    "df.isnull().sum()"
   ]
  },
  {
   "cell_type": "code",
   "execution_count": null,
   "metadata": {},
   "outputs": [],
   "source": [
    "df.shape"
   ]
  },
  {
   "cell_type": "code",
   "execution_count": null,
   "metadata": {},
   "outputs": [],
   "source": [
    "pd.set_option('display.max_columns', None)\n",
    "pd.set_option('display.max_rows', None)"
   ]
  },
  {
   "cell_type": "markdown",
   "metadata": {},
   "source": [
    "### Exploding a Column into multiple rows"
   ]
  },
  {
   "cell_type": "code",
   "execution_count": null,
   "metadata": {},
   "outputs": [],
   "source": [
    "type(df.incident_county[0])"
   ]
  },
  {
   "cell_type": "code",
   "execution_count": null,
   "metadata": {},
   "outputs": [],
   "source": [
    "df.isnull().sum()"
   ]
  },
  {
   "cell_type": "code",
   "execution_count": null,
   "metadata": {},
   "outputs": [],
   "source": [
    "df = df[pd.notnull(df['incident_county'])]"
   ]
  },
  {
   "cell_type": "code",
   "execution_count": null,
   "metadata": {},
   "outputs": [],
   "source": [
    "df.isnull().sum()"
   ]
  },
  {
   "cell_type": "code",
   "execution_count": null,
   "metadata": {},
   "outputs": [],
   "source": [
    "df['incident_date_extinguished'] = df['incident_date_extinguished'].fillna('Active')"
   ]
  },
  {
   "cell_type": "code",
   "execution_count": null,
   "metadata": {},
   "outputs": [],
   "source": [
    "df.isnull().sum()"
   ]
  },
  {
   "cell_type": "code",
   "execution_count": null,
   "metadata": {},
   "outputs": [],
   "source": [
    "new_df = pd.DataFrame(df.incident_county.str.split(', ').tolist(), index=[df.incident_acres_burned, df.incident_date_extinguished, df.incident_containment, df.incident_name]).stack()"
   ]
  },
  {
   "cell_type": "code",
   "execution_count": null,
   "metadata": {},
   "outputs": [],
   "source": [
    "new_df.head()"
   ]
  },
  {
   "cell_type": "code",
   "execution_count": null,
   "metadata": {},
   "outputs": [],
   "source": [
    "new_df = new_df.reset_index([0, 'incident_acres_burned', 'incident_date_extinguished','incident_containment','incident_name'])"
   ]
  },
  {
   "cell_type": "code",
   "execution_count": null,
   "metadata": {},
   "outputs": [],
   "source": [
    "new_df.rename(columns = {0:'incident_county'}, inplace = True)"
   ]
  },
  {
   "cell_type": "code",
   "execution_count": null,
   "metadata": {},
   "outputs": [],
   "source": [
    "new_df['incident_county'] = new_df['incident_county'] + \" County\""
   ]
  },
  {
   "cell_type": "code",
   "execution_count": null,
   "metadata": {},
   "outputs": [],
   "source": [
    "new_df['STNAME'] = 'CA'"
   ]
  },
  {
   "cell_type": "code",
   "execution_count": null,
   "metadata": {},
   "outputs": [],
   "source": [
    "new_df.shape"
   ]
  },
  {
   "cell_type": "code",
   "execution_count": null,
   "metadata": {},
   "outputs": [],
   "source": [
    "new_df.nlargest(10, 'incident_acres_burned')"
   ]
  },
  {
   "cell_type": "code",
   "execution_count": null,
   "metadata": {},
   "outputs": [],
   "source": [
    "test = pd.read_csv('national_county.csv', header = None)"
   ]
  },
  {
   "cell_type": "code",
   "execution_count": null,
   "metadata": {},
   "outputs": [],
   "source": [
    "test.rename(columns = {0: \"x\", 1 : \"y\"}, inplace = True)"
   ]
  },
  {
   "cell_type": "code",
   "execution_count": null,
   "metadata": {},
   "outputs": [],
   "source": [
    "test2 = pd.DataFrame(test.y.str.split(',').tolist())\n"
   ]
  },
  {
   "cell_type": "code",
   "execution_count": null,
   "metadata": {},
   "outputs": [],
   "source": [
    "test2.rename(columns = {0: \"STNAME\", 1 : \"x\", 2 : \"y\", 3 : \"incident_county\"}, inplace = True)"
   ]
  },
  {
   "cell_type": "code",
   "execution_count": null,
   "metadata": {},
   "outputs": [],
   "source": [
    "test2.drop([4], axis = 1 ,inplace = True)"
   ]
  },
  {
   "cell_type": "code",
   "execution_count": null,
   "metadata": {},
   "outputs": [],
   "source": [
    "test2[\"FIPS\"] = test2['x'] + test2['y']"
   ]
  },
  {
   "cell_type": "code",
   "execution_count": null,
   "metadata": {},
   "outputs": [],
   "source": [
    "test2.drop(['x', 'y'], axis = 1, inplace = True)"
   ]
  },
  {
   "cell_type": "code",
   "execution_count": null,
   "metadata": {},
   "outputs": [],
   "source": [
    "testCA = test2[test2[\"STNAME\"] == 'CA']"
   ]
  },
  {
   "cell_type": "code",
   "execution_count": null,
   "metadata": {},
   "outputs": [],
   "source": [
    "testCA.head()"
   ]
  },
  {
   "cell_type": "code",
   "execution_count": null,
   "metadata": {},
   "outputs": [],
   "source": [
    "new_df['FIPS'] = new_df.incident_county.map(testCA.set_index('incident_county')['FIPS'].to_dict())"
   ]
  },
  {
   "cell_type": "code",
   "execution_count": null,
   "metadata": {},
   "outputs": [],
   "source": [
    "import numpy as np"
   ]
  },
  {
   "cell_type": "code",
   "execution_count": null,
   "metadata": {},
   "outputs": [],
   "source": [
    "subset = new_df.groupby(['incident_county','FIPS']).agg({'incident_acres_burned':sum, 'incident_containment':np.mean}).reset_index()"
   ]
  },
  {
   "cell_type": "code",
   "execution_count": null,
   "metadata": {},
   "outputs": [],
   "source": [
    "subset.shape"
   ]
  },
  {
   "cell_type": "code",
   "execution_count": null,
   "metadata": {},
   "outputs": [],
   "source": [
    "from urllib.request import urlopen\n",
    "import json\n",
    "import pandas as pd\n",
    "import plotly.express as px\n",
    "\n",
    "with urlopen('https://raw.githubusercontent.com/plotly/datasets/master/geojson-counties-fips.json') as response:\n",
    "    counties = json.load(response)\n",
    "\n",
    "\n",
    "fig = px.choropleth_mapbox(subset, geojson=counties, locations='FIPS', color= 'incident_acres_burned',\n",
    "                           color_continuous_scale=\"inferno_r\",\n",
    "                           hover_name = 'incident_county',\n",
    "                           mapbox_style=\"carto-positron\",\n",
    "                           zoom=4.8, center = {\"lat\": 37.3, \"lon\": -119.4179},\n",
    "                           opacity=0.5,\n",
    "                           labels={'incident_acres_burned':'Acres Burned', 'FIPS' : 'County Code'},\n",
    "                           title = 'Wildfire Damage (Acres Burned) Across CA Counties'\n",
    "                          )\n",
    "\n",
    "fig.write_html(\"firemap2.html\")\n",
    "fig.show()\n"
   ]
  },
  {
   "cell_type": "code",
   "execution_count": null,
   "metadata": {},
   "outputs": [],
   "source": [
    "from urllib.request import urlopen\n",
    "import json\n",
    "import pandas as pd\n",
    "import plotly.express as px\n",
    "\n",
    "with urlopen('https://raw.githubusercontent.com/plotly/datasets/master/geojson-counties-fips.json') as response:\n",
    "    counties = json.load(response)\n",
    "\n",
    "\n",
    "fig = px.choropleth_mapbox(subset, geojson=counties, locations='FIPS', color= 'incident_containment',\n",
    "                           color_continuous_scale=\"Plasma_r\",\n",
    "                           hover_name = 'incident_county',\n",
    "                           mapbox_style=\"carto-positron\",\n",
    "                           zoom=4.8, center = {\"lat\": 37.3, \"lon\": -119.4179},\n",
    "                           opacity=0.5,\n",
    "                           labels={'incident_containment':'Percent Contained', 'FIPS' : 'County Code'},\n",
    "                           title = 'Average Wildfire Percent Contained (By County)'\n",
    "                          )\n",
    "\n",
    "fig.write_html(\"firemap3.html\")\n",
    "fig.show()\n"
   ]
  },
  {
   "cell_type": "code",
   "execution_count": null,
   "metadata": {},
   "outputs": [],
   "source": [
    "burned_by_county = subset.nlargest(10, 'incident_acres_burned')"
   ]
  },
  {
   "cell_type": "code",
   "execution_count": null,
   "metadata": {},
   "outputs": [],
   "source": [
    "import plotly.express as px\n",
    "\n",
    "fig = px.bar(burned_by_county, y=\"incident_county\", x=\"incident_acres_burned\", color=\"incident_county\", orientation=\"h\", \n",
    "             hover_name=\"incident_county\", labels = {'incident_county' : 'County', 'incident_acres_burned' : 'Acres Burned'},\n",
    "             color_discrete_sequence = px.colors.sequential.matter_r\n",
    "            )\n",
    "\n",
    "fig.show()"
   ]
  },
  {
   "cell_type": "code",
   "execution_count": null,
   "metadata": {},
   "outputs": [],
   "source": [
    "duplicate = df.copy()"
   ]
  },
  {
   "cell_type": "code",
   "execution_count": null,
   "metadata": {},
   "outputs": [],
   "source": [
    "duplicate['incident_name'] = df['incident_name'].copy().str.split('(').str[0]"
   ]
  },
  {
   "cell_type": "code",
   "execution_count": null,
   "metadata": {},
   "outputs": [],
   "source": [
    "# duplicate['date_extinguished'] = pd.to_datetime(duplicate['incident_date_extinguished']).dt.strftime('%Y-%m-%d')"
   ]
  },
  {
   "cell_type": "code",
   "execution_count": null,
   "metadata": {},
   "outputs": [],
   "source": [
    "duplicate.head()"
   ]
  },
  {
   "cell_type": "code",
   "execution_count": null,
   "metadata": {},
   "outputs": [],
   "source": [
    "burned_by_name = duplicate.nlargest(10, 'incident_acres_burned')"
   ]
  },
  {
   "cell_type": "code",
   "execution_count": null,
   "metadata": {},
   "outputs": [],
   "source": [
    "import plotly.express as px\n",
    "\n",
    "fig = px.bar(burned_by_name, y=\"incident_name\", x=\"incident_acres_burned\", color=\"incident_name\", orientation=\"h\", \n",
    "             hover_name=\"incident_name\", hover_data = ['incident_county','incident_date_extinguished'], labels = {'incident_date_extinguished' : 'Date Extinguished', 'incident_name' : 'Incident Name', 'incident_acres_burned' : 'Acres Burned', 'incident_county' : 'County'},\n",
    "             color_discrete_sequence = px.colors.sequential.matter_r\n",
    "            )\n",
    "\n",
    "fig.show()"
   ]
  },
  {
   "cell_type": "code",
   "execution_count": null,
   "metadata": {},
   "outputs": [],
   "source": [
    "import sys\n",
    "import numpy\n",
    "numpy.set_printoptions(threshold=sys.maxsize)"
   ]
  },
  {
   "cell_type": "code",
   "execution_count": null,
   "metadata": {},
   "outputs": [],
   "source": [
    "df.incident_name.unique()"
   ]
  },
  {
   "cell_type": "code",
   "execution_count": null,
   "metadata": {},
   "outputs": [],
   "source": [
    "top_20_largest = pd.read_excel('top20_acres.xlsx')\n",
    "top_20_largest = top_20_largest[1:21]"
   ]
  },
  {
   "cell_type": "code",
   "execution_count": null,
   "metadata": {},
   "outputs": [],
   "source": [
    "top_20_deadliest = pd.read_excel('top20_deadliest.xlsx')\n",
    "top_20_deadliest = top_20_deadliest[1:21]"
   ]
  },
  {
   "cell_type": "code",
   "execution_count": null,
   "metadata": {},
   "outputs": [],
   "source": [
    "top_20_destructive = pd.read_excel('top20_destruction.xlsx')\n",
    "top_20_destructive = top_20_destructive[1:21]"
   ]
  },
  {
   "cell_type": "code",
   "execution_count": null,
   "metadata": {},
   "outputs": [],
   "source": [
    "top_20_largest.rename(columns = {'Unnamed: 1' : 'incident_name', 'Unnamed: 2' : 'incident_date', \n",
    "                                   'Unnamed: 3' : 'incident_county', 'Unnamed: 4' : 'incident_acres_burned', \n",
    "                                   'Unnamed: 5' : 'Structures Destroyed', 'Unnamed: 6' : 'Deaths'}, inplace = True)"
   ]
  },
  {
   "cell_type": "code",
   "execution_count": null,
   "metadata": {},
   "outputs": [],
   "source": [
    "top_20_deadliest.rename(columns = {'Unnamed: 1' : 'incident_name', 'Unnamed: 2' : 'incident_date', \n",
    "                                   'Unnamed: 3' : 'incident_county', 'Unnamed: 4' : 'incident_acres_burned', \n",
    "                                   'Unnamed: 5' : 'Structures Destroyed', 'Unnamed: 6' : 'Deaths'}, inplace = True)"
   ]
  },
  {
   "cell_type": "code",
   "execution_count": null,
   "metadata": {},
   "outputs": [],
   "source": [
    "top_20_destructive.rename(columns = {'Unnamed: 1' : 'incident_name', 'Unnamed: 2' : 'incident_date', \n",
    "                                   'Unnamed: 3' : 'incident_county', 'Unnamed: 4' : 'incident_acres_burned', \n",
    "                                   'Unnamed: 5' : 'Structures Destroyed', 'Unnamed: 6' : 'Deaths'}, inplace = True)"
   ]
  },
  {
   "cell_type": "code",
   "execution_count": null,
   "metadata": {},
   "outputs": [],
   "source": [
    "top_20_largest['incident_cause'] = top_20_largest['incident_name'].str.split('(').str.get(1)\n",
    "top_20_largest['incident_cause'] = top_20_largest['incident_cause'].str.extract('([a-zA-Z ]+)', expand=False).str.strip()\n",
    "top_20_largest['incident_name'] = top_20_largest['incident_name'].str.extract('([a-zA-Z ]+)', expand=False).str.strip()\n",
    "top_20_largest['incident_county'] = top_20_largest['incident_county'].str.replace('\\n', '')"
   ]
  },
  {
   "cell_type": "code",
   "execution_count": null,
   "metadata": {},
   "outputs": [],
   "source": [
    "top_20_deadliest['incident_cause'] = top_20_deadliest['incident_name'].str.split('(').str.get(1)\n",
    "top_20_deadliest['incident_cause'] = top_20_deadliest['incident_cause'].str.extract('([a-zA-Z ]+)', expand=False).str.strip()\n",
    "top_20_deadliest['incident_name'] = top_20_deadliest['incident_name'].str.extract('([a-zA-Z ]+)', expand=False).str.strip()"
   ]
  },
  {
   "cell_type": "code",
   "execution_count": null,
   "metadata": {},
   "outputs": [],
   "source": [
    "top_20_destructive['incident_cause'] = top_20_destructive['incident_name'].str.split('(').str.get(1)\n",
    "top_20_destructive['incident_cause'] = top_20_destructive['incident_cause'].str.extract('([a-zA-Z ]+)', expand=False).str.strip()\n",
    "top_20_destructive['incident_name'] = top_20_destructive['incident_name'].str.extract('([a-zA-Z ]+)', expand=False).str.strip()"
   ]
  },
  {
   "cell_type": "code",
   "execution_count": null,
   "metadata": {},
   "outputs": [],
   "source": [
    "top_20_largest['incident_cause'] = top_20_largest['incident_cause'].replace(['Undetermined'],'Unknown')"
   ]
  },
  {
   "cell_type": "code",
   "execution_count": null,
   "metadata": {},
   "outputs": [],
   "source": [
    "from collections import Counter\n",
    "\n",
    "labels = top_20_largest['incident_cause']\n",
    "largest_labels = list(top_20_largest['incident_cause'].unique())\n",
    "largest_values = list(Counter(labels).values())"
   ]
  },
  {
   "cell_type": "code",
   "execution_count": null,
   "metadata": {},
   "outputs": [],
   "source": [
    "import plotly.graph_objects as go\n",
    "from plotly.subplots import make_subplots\n",
    "\n",
    "colors = ['gold', 'mediumturquoise', 'OrangeRed', 'LightSkyBlue', 'MediumOrchid']\n",
    "# pull is given as a fraction of the pie radius\n",
    "\n",
    "fig = make_subplots(rows=1, cols=1, specs=[[{'type':'domain'}]])\n",
    "\n",
    "fig.add_trace(go.Pie(labels=largest_labels, values=largest_values, pull=[0, 0, 0.2, 0, 0], name = 'Wildfire Cause', sort = False),\n",
    "              1, 1)\n",
    "fig.update_traces(hoverinfo=\"label+percent+name\", textfont_size = 16, \n",
    "                 marker=dict(colors=colors, line=dict(color='#000000', width=2)))\n",
    "\n",
    "fig.update_layout(title = 'Causes of the Top 20 Largest California Wildfires')\n",
    "fig.show()"
   ]
  },
  {
   "cell_type": "code",
   "execution_count": null,
   "metadata": {},
   "outputs": [],
   "source": [
    "top_20_deadliest['incident_cause'] = top_20_deadliest['incident_cause'].replace(['Undetermined'],'Unknown')\n",
    "top_20_deadliest['incident_cause'] = top_20_deadliest['incident_cause'].replace(['Arson', 'Vehicle'],'Human Related')\n",
    "top_20_deadliest['incident_cause'] = top_20_deadliest['incident_cause'].replace(['Powerline', 'Power Lines'],'Powerlines')"
   ]
  },
  {
   "cell_type": "code",
   "execution_count": null,
   "metadata": {},
   "outputs": [],
   "source": [
    "labels = top_20_deadliest['incident_cause']\n",
    "deadliest_labels = list(top_20_deadliest['incident_cause'].unique())\n",
    "deadliest_values = list(Counter(labels).values())"
   ]
  },
  {
   "cell_type": "code",
   "execution_count": null,
   "metadata": {},
   "outputs": [],
   "source": [
    "import plotly.graph_objects as go\n",
    "from plotly.subplots import make_subplots\n",
    "\n",
    "colors = ['gold', 'mediumturquoise', 'darkorange', 'LightSkyBlue', 'MediumOrchid', 'OrangeRed', 'Pink']\n",
    "# pull is given as a fraction of the pie radius\n",
    "\n",
    "fig = make_subplots(rows=1, cols=1, specs=[[{'type':'domain'}]])\n",
    "\n",
    "fig.add_trace(go.Pie(labels=deadliest_labels, values=deadliest_values, pull=[0, 0, 0, 0, 0, 0.2, 0], name = 'Wildfire Cause', sort = False),\n",
    "              1, 1)\n",
    "fig.update_traces(hoverinfo=\"label+percent+name\", textfont_size = 16, \n",
    "                 marker=dict(colors=colors, line=dict(color='#000000', width=2)))\n",
    "\n",
    "fig.update_layout(title = 'Causes of the Top 20 Deadliest California Wildfires')\n",
    "\n",
    "fig.show()"
   ]
  },
  {
   "cell_type": "code",
   "execution_count": null,
   "metadata": {},
   "outputs": [],
   "source": [
    "top_20_destructive['incident_cause'] = top_20_destructive['incident_cause'].replace(['Undetermined'],'Unknown')\n",
    "top_20_destructive['incident_cause'] = top_20_destructive['incident_cause'].replace(['Arson', 'Vehicle'],'Human Related')\n",
    "top_20_destructive['incident_cause'] = top_20_destructive['incident_cause'].replace(['Powerline', 'Power Lines'],'Powerlines')"
   ]
  },
  {
   "cell_type": "code",
   "execution_count": null,
   "metadata": {},
   "outputs": [],
   "source": [
    "labels = top_20_destructive['incident_cause']\n",
    "destructive_labels = list(top_20_destructive['incident_cause'].unique())\n",
    "destructive_values = list(Counter(labels).values())"
   ]
  },
  {
   "cell_type": "code",
   "execution_count": null,
   "metadata": {},
   "outputs": [],
   "source": [
    "import plotly.graph_objects as go\n",
    "from plotly.subplots import make_subplots\n",
    "\n",
    "colors = ['gold', 'mediumturquoise', 'darkorange', 'OrangeRed', 'MediumOrchid', 'LightSkyBlue', 'Pink']\n",
    "# pull is given as a fraction of the pie radius\n",
    "\n",
    "fig = make_subplots(rows=1, cols=1, specs=[[{'type':'domain'}]])\n",
    "\n",
    "fig.add_trace(go.Pie(labels=destructive_labels, values=destructive_values, pull=[0, 0, 0, 0.2, 0, 0, 0], name = 'Wildfire Cause', sort = False),\n",
    "              1, 1)\n",
    "fig.update_traces(hoverinfo=\"label+percent+name\", textfont_size = 16, \n",
    "                 marker=dict(colors=colors, line=dict(color='#000000', width=2)))\n",
    "\n",
    "fig.update_layout(title = 'Causes of the Top 20 Most Destructive California Wildfires')\n",
    "\n",
    "fig.show()"
   ]
  },
  {
   "cell_type": "code",
   "execution_count": null,
   "metadata": {},
   "outputs": [],
   "source": [
    "import plotly.graph_objects as go\n",
    "from plotly.subplots import make_subplots\n",
    "\n",
    "\n",
    "\n",
    "fig = make_subplots(rows=1, cols=3, specs=[[{'type':'domain'}, {'type':'domain'}, {'type':'domain'}]])\n",
    "\n",
    "fig.add_trace(go.Pie(labels=largest_labels, values=largest_values, pull=[0, 0, 0.2, 0, 0],\n",
    "                     name = 'Cause', sort = False), 1, 1)\n",
    "fig.add_trace(go.Pie(labels=deadliest_labels, values=deadliest_values, pull=[0, 0, 0, 0, 0, 0.2, 0], \n",
    "                     name='Cause', sort = False), 1, 2)\n",
    "fig.add_trace(go.Pie(labels=destructive_labels, values=destructive_values, pull=[0, 0, 0, 0.2, 0, 0, 0], \n",
    "                     name='Cause', sort = False,\n",
    "                     marker = {'colors' : ['gold', 'DarkTurquoise', 'BurlyWood', \n",
    "                                          'OrangeRed', 'MediumOrchid', 'LightSkyBlue',\n",
    "                                          'Pink']}), 1, 3)\n",
    "\n",
    "\n",
    "fig.update_traces(hoverinfo=\"label+percent+name\", textfont_size = 12,\n",
    "                  marker=dict(line=dict(color='#000000', width=2)))\n",
    "\n",
    "fig.update_layout(\n",
    "    title = 'Causes of the Largest, Deadliest, and Most Destructive California Wildfires',\n",
    "    annotations=[dict(text='Causes: Top 20 Largest Fires', x=-0.004, y=0.85, font_size=13, showarrow=False),\n",
    "                 dict(text='Causes: Top 20 Deadliest Fires', x=0.51, y=0.85, font_size=13, showarrow=False),\n",
    "                 dict(text='Causes: Top 20 Most Destructive', x=1.02, y=0.85, font_size=13, showarrow=False)])\n",
    "\n",
    "fig.show()"
   ]
  },
  {
   "cell_type": "code",
   "execution_count": null,
   "metadata": {},
   "outputs": [],
   "source": [
    "i1 = np.intersect1d(top_20_largest.incident_name, np.intersect1d(top_20_deadliest.incident_name, top_20_destructive.incident_name))"
   ]
  },
  {
   "cell_type": "code",
   "execution_count": null,
   "metadata": {},
   "outputs": [],
   "source": [
    "i1"
   ]
  },
  {
   "cell_type": "code",
   "execution_count": null,
   "metadata": {},
   "outputs": [],
   "source": [
    "i2 = np.intersect1d(top_20_largest.incident_name, top_20_deadliest.incident_name)"
   ]
  },
  {
   "cell_type": "code",
   "execution_count": null,
   "metadata": {},
   "outputs": [],
   "source": [
    "i2"
   ]
  },
  {
   "cell_type": "code",
   "execution_count": null,
   "metadata": {},
   "outputs": [],
   "source": [
    "i3 = np.intersect1d(top_20_largest.incident_name, top_20_destructive.incident_name)"
   ]
  },
  {
   "cell_type": "code",
   "execution_count": null,
   "metadata": {},
   "outputs": [],
   "source": [
    "i3"
   ]
  },
  {
   "cell_type": "code",
   "execution_count": null,
   "metadata": {},
   "outputs": [],
   "source": [
    "i4 = np.intersect1d(top_20_deadliest.incident_name, top_20_destructive.incident_name)"
   ]
  },
  {
   "cell_type": "code",
   "execution_count": null,
   "metadata": {},
   "outputs": [],
   "source": [
    "i4"
   ]
  },
  {
   "cell_type": "code",
   "execution_count": null,
   "metadata": {},
   "outputs": [],
   "source": [
    "i5 = list(i1) + list(i2) + list(i3) + list(i4)"
   ]
  },
  {
   "cell_type": "code",
   "execution_count": null,
   "metadata": {},
   "outputs": [],
   "source": [
    "i6 = list(set(i5))"
   ]
  },
  {
   "cell_type": "code",
   "execution_count": null,
   "metadata": {},
   "outputs": [],
   "source": [
    "i6"
   ]
  },
  {
   "cell_type": "code",
   "execution_count": null,
   "metadata": {},
   "outputs": [],
   "source": [
    "data = pd.DataFrame(columns = ['TOP 20 LARGEST', 'TOP 20 DEADLIEST', 'TOP 20 MOST DESTRUCTIVE'], index = i6)"
   ]
  },
  {
   "cell_type": "code",
   "execution_count": null,
   "metadata": {},
   "outputs": [],
   "source": [
    "data"
   ]
  },
  {
   "cell_type": "code",
   "execution_count": null,
   "metadata": {},
   "outputs": [],
   "source": [
    "data.loc['OLD'] = [0,1,1]\n",
    "data.loc['TUNNEL'] = [0,1,1]\n",
    "data.loc['NORTH COMPLEX'] = [1,1,1]\n",
    "data.loc['LNU LIGHTNING COMPLEX'] = [1,0,1]\n",
    "data.loc['CARR'] = [1,1,1]\n",
    "data.loc['AUGUST COMPLEX'] = [1,0,1]\n",
    "data.loc['THOMAS'] = [1,0,1]\n",
    "data.loc['ATLAS'] = [0,1,1]\n",
    "data.loc['CREEK FIRE'] = [1,0,1]\n",
    "data.loc['CEDAR'] = [1,1,1]\n",
    "data.loc['TUBBS'] = [0,1,1]\n",
    "data.loc['CAMP FIRE'] = [0,1,1]\n",
    "data.loc['WITCH'] = [1,0,1]"
   ]
  },
  {
   "cell_type": "code",
   "execution_count": null,
   "metadata": {},
   "outputs": [],
   "source": [
    "new_index = []\n",
    "for i in data.index:\n",
    "    if 'COMPLEX' in i or 'FIRE' in i:\n",
    "        new_index.append(i)\n",
    "    else:\n",
    "        new_index.append(str(i) + ' FIRE')\n",
    "        "
   ]
  },
  {
   "cell_type": "code",
   "execution_count": null,
   "metadata": {},
   "outputs": [],
   "source": [
    "data.index = new_index"
   ]
  },
  {
   "cell_type": "code",
   "execution_count": null,
   "metadata": {},
   "outputs": [],
   "source": [
    "data"
   ]
  },
  {
   "cell_type": "code",
   "execution_count": null,
   "metadata": {},
   "outputs": [],
   "source": [
    "from networkx.algorithms import bipartite"
   ]
  },
  {
   "cell_type": "code",
   "execution_count": null,
   "metadata": {},
   "outputs": [],
   "source": [
    "from networkx.algorithms import nx\n",
    "\n",
    "B = nx.Graph()\n",
    "B.add_nodes_from(data.index, bipartite=0)\n",
    "B.add_nodes_from(data.columns, bipartite=1)\n",
    "\n",
    "s = data.stack()\n",
    "B.add_edges_from(s[s==1].index)\n"
   ]
  },
  {
   "cell_type": "code",
   "execution_count": null,
   "metadata": {},
   "outputs": [],
   "source": [
    "color = bipartite.color(B)\n",
    "color_dict = {0:'g',1:'r'}\n",
    "color_list = [color_dict[i[1]] for i in B.nodes.data('bipartite')]"
   ]
  },
  {
   "cell_type": "code",
   "execution_count": null,
   "metadata": {},
   "outputs": [],
   "source": [
    "from matplotlib.pyplot import figure, text\n",
    "\n",
    "figure(figsize=(12,12))\n",
    "\n",
    "top = nx.bipartite.sets(B)[0]\n",
    "pos = nx.bipartite_layout(B, top)\n",
    "\n",
    "\n",
    "nx.draw(B, pos=pos, with_labels=False, \n",
    "        node_size=1000, node_color = color_list)\n",
    "\n",
    "# count = 0\n",
    "# for node, (x, y) in pos.items():\n",
    "#     if node == 'TOP 20 MOST DESTRUCTIVE':\n",
    "#         text(x,y-0.038,s=node, bbox=dict(facecolor=color_list[count], alpha=0.3), fontsize = 12,\n",
    "#              horizontalalignment='center')\n",
    "#     elif 'TOP 20' in node:\n",
    "#         text(x+0.05,y+0.03,s=node, bbox=dict(facecolor=color_list[count], alpha=0.3), fontsize = 12,\n",
    "#              horizontalalignment='center')\n",
    "#     else:\n",
    "#         text(x,y+0.03,s=node, bbox=dict(facecolor=color_list[count],alpha=0.3),fontsize = 12,horizontalalignment='center')\n",
    "#     count += 1\n",
    " \n",
    "count = 0\n",
    "for node, (x, y) in pos.items():\n",
    "    if node == 'TOP 20 MOST DESTRUCTIVE':\n",
    "        text(x+0.01,y-0.062,s=node, bbox=dict(facecolor=color_list[count], alpha=0.3), fontsize = 12,\n",
    "             horizontalalignment='center', rotation = 13)\n",
    "    elif node == 'TOP 20 LARGEST':\n",
    "        text(x+0.01,y-0.055,s=node, bbox=dict(facecolor=color_list[count], alpha=0.3), fontsize = 12,\n",
    "             horizontalalignment='center', rotation = 15)\n",
    "    elif node == 'TOP 20 DEADLIEST':\n",
    "        text(x+0.02,y-0.058,s=node, bbox=dict(facecolor=color_list[count], alpha=0.3), fontsize = 12,\n",
    "             horizontalalignment='center', rotation = 17)\n",
    "    else:\n",
    "        text(x,y+0.03,s=node, bbox=dict(facecolor=color_list[count],alpha=0.3),fontsize = 12,horizontalalignment='center')\n",
    "    count += 1"
   ]
  },
  {
   "cell_type": "code",
   "execution_count": null,
   "metadata": {},
   "outputs": [],
   "source": [
    "top_20_largest.head()"
   ]
  },
  {
   "cell_type": "code",
   "execution_count": null,
   "metadata": {},
   "outputs": [],
   "source": [
    "top_20_deadliest.head()"
   ]
  },
  {
   "cell_type": "code",
   "execution_count": null,
   "metadata": {},
   "outputs": [],
   "source": [
    "top_20_destructive.head()"
   ]
  },
  {
   "cell_type": "code",
   "execution_count": null,
   "metadata": {},
   "outputs": [],
   "source": []
  }
 ],
 "metadata": {
  "kernelspec": {
   "display_name": "Python 3",
   "language": "python",
   "name": "python3"
  },
  "language_info": {
   "codemirror_mode": {
    "name": "ipython",
    "version": 3
   },
   "file_extension": ".py",
   "mimetype": "text/x-python",
   "name": "python",
   "nbconvert_exporter": "python",
   "pygments_lexer": "ipython3",
   "version": "3.7.6"
  }
 },
 "nbformat": 4,
 "nbformat_minor": 4
}
