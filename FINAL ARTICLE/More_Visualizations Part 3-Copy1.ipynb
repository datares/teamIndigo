{
 "cells": [
  {
   "cell_type": "code",
   "execution_count": null,
   "metadata": {},
   "outputs": [],
   "source": [
    "import pandas as pd\n",
    "CA = pd.read_csv('mapdataall.csv')"
   ]
  },
  {
   "cell_type": "code",
   "execution_count": null,
   "metadata": {},
   "outputs": [],
   "source": [
    "CA.shape"
   ]
  },
  {
   "cell_type": "code",
   "execution_count": null,
   "metadata": {},
   "outputs": [],
   "source": [
    "df = pd.read_fwf('national_county.txt')\n",
    "df.to_csv('national_county.csv')"
   ]
  },
  {
   "cell_type": "code",
   "execution_count": null,
   "metadata": {},
   "outputs": [],
   "source": [
    "df = CA[['incident_acres_burned','incident_county','incident_date_extinguished', 'incident_containment', 'incident_name']]"
   ]
  },
  {
   "cell_type": "code",
   "execution_count": null,
   "metadata": {},
   "outputs": [],
   "source": [
    "df.shape"
   ]
  },
  {
   "cell_type": "code",
   "execution_count": null,
   "metadata": {},
   "outputs": [],
   "source": [
    "pd.set_option('display.max_columns', None)\n",
    "pd.set_option('display.max_rows', None)"
   ]
  },
  {
   "cell_type": "markdown",
   "metadata": {},
   "source": [
    "### Exploding a Column into multiple rows"
   ]
  },
  {
   "cell_type": "code",
   "execution_count": null,
   "metadata": {},
   "outputs": [],
   "source": [
    "type(df.incident_county[0])"
   ]
  },
  {
   "cell_type": "code",
   "execution_count": null,
   "metadata": {},
   "outputs": [],
   "source": [
    "df = df[pd.notnull(df['incident_county'])]"
   ]
  },
  {
   "cell_type": "code",
   "execution_count": null,
   "metadata": {},
   "outputs": [],
   "source": [
    "df['incident_date_extinguished'] = df['incident_date_extinguished'].fillna('Active')"
   ]
  },
  {
   "cell_type": "code",
   "execution_count": null,
   "metadata": {},
   "outputs": [],
   "source": [
    "df.isnull().sum()"
   ]
  },
  {
   "cell_type": "code",
   "execution_count": null,
   "metadata": {},
   "outputs": [],
   "source": [
    "new_df = pd.DataFrame(df.incident_county.str.split(', ').tolist(), index=[df.incident_acres_burned, df.incident_date_extinguished, df.incident_containment, df.incident_name]).stack()"
   ]
  },
  {
   "cell_type": "code",
   "execution_count": null,
   "metadata": {},
   "outputs": [],
   "source": [
    "new_df = new_df.reset_index([0, 'incident_acres_burned', 'incident_date_extinguished','incident_containment','incident_name'])"
   ]
  },
  {
   "cell_type": "code",
   "execution_count": null,
   "metadata": {},
   "outputs": [],
   "source": [
    "new_df.rename(columns = {0:'incident_county'}, inplace = True)"
   ]
  },
  {
   "cell_type": "code",
   "execution_count": null,
   "metadata": {},
   "outputs": [],
   "source": [
    "new_df['incident_county'] = new_df['incident_county'] + \" County\""
   ]
  },
  {
   "cell_type": "code",
   "execution_count": null,
   "metadata": {},
   "outputs": [],
   "source": [
    "new_df['STNAME'] = 'CA'"
   ]
  },
  {
   "cell_type": "code",
   "execution_count": null,
   "metadata": {},
   "outputs": [],
   "source": [
    "new_df.shape"
   ]
  },
  {
   "cell_type": "code",
   "execution_count": null,
   "metadata": {},
   "outputs": [],
   "source": [
    "test = pd.read_csv('national_county.csv', header = None)"
   ]
  },
  {
   "cell_type": "code",
   "execution_count": null,
   "metadata": {},
   "outputs": [],
   "source": [
    "test.rename(columns = {0: \"x\", 1 : \"y\"}, inplace = True)"
   ]
  },
  {
   "cell_type": "code",
   "execution_count": null,
   "metadata": {},
   "outputs": [],
   "source": [
    "test2 = pd.DataFrame(test.y.str.split(',').tolist())\n"
   ]
  },
  {
   "cell_type": "code",
   "execution_count": null,
   "metadata": {},
   "outputs": [],
   "source": [
    "test2.rename(columns = {0: \"STNAME\", 1 : \"x\", 2 : \"y\", 3 : \"incident_county\"}, inplace = True)"
   ]
  },
  {
   "cell_type": "code",
   "execution_count": null,
   "metadata": {},
   "outputs": [],
   "source": [
    "test2.drop([4], axis = 1 ,inplace = True)"
   ]
  },
  {
   "cell_type": "code",
   "execution_count": null,
   "metadata": {},
   "outputs": [],
   "source": [
    "test2[\"FIPS\"] = test2['x'] + test2['y']"
   ]
  },
  {
   "cell_type": "code",
   "execution_count": null,
   "metadata": {},
   "outputs": [],
   "source": [
    "test2.drop(['x', 'y'], axis = 1, inplace = True)"
   ]
  },
  {
   "cell_type": "code",
   "execution_count": null,
   "metadata": {},
   "outputs": [],
   "source": [
    "testCA = test2[test2[\"STNAME\"] == 'CA']"
   ]
  },
  {
   "cell_type": "code",
   "execution_count": null,
   "metadata": {},
   "outputs": [],
   "source": [
    "new_df['FIPS'] = new_df.incident_county.map(testCA.set_index('incident_county')['FIPS'].to_dict())"
   ]
  },
  {
   "cell_type": "code",
   "execution_count": null,
   "metadata": {},
   "outputs": [],
   "source": [
    "import numpy as np"
   ]
  },
  {
   "cell_type": "code",
   "execution_count": null,
   "metadata": {},
   "outputs": [],
   "source": [
    "subset = new_df.groupby(['incident_county','FIPS']).agg({'incident_acres_burned':sum, 'incident_containment':np.mean}).reset_index()"
   ]
  },
  {
   "cell_type": "code",
   "execution_count": null,
   "metadata": {},
   "outputs": [],
   "source": [
    "subset.shape"
   ]
  },
  {
   "cell_type": "code",
   "execution_count": null,
   "metadata": {},
   "outputs": [],
   "source": [
    "from urllib.request import urlopen\n",
    "import json\n",
    "import pandas as pd\n",
    "import plotly.express as px\n",
    "\n",
    "with urlopen('https://raw.githubusercontent.com/plotly/datasets/master/geojson-counties-fips.json') as response:\n",
    "    counties = json.load(response)\n",
    "\n",
    "\n",
    "fig = px.choropleth_mapbox(subset, geojson=counties, locations='FIPS', color= 'incident_acres_burned',\n",
    "                           color_continuous_scale=\"inferno_r\",\n",
    "                           hover_name = 'incident_county',\n",
    "                           mapbox_style=\"carto-positron\",\n",
    "                           zoom=4.8, center = {\"lat\": 37.3, \"lon\": -119.4179},\n",
    "                           opacity=0.5,\n",
    "                           labels={'incident_acres_burned':'Acres Burned', 'FIPS' : 'County Code'},\n",
    "                           title = 'WildFire Damage (Acres Burned) Across CA Counties'\n",
    "                          )\n",
    "\n",
    "fig.write_html(\"firemap2.html\")\n",
    "fig.show()\n"
   ]
  },
  {
   "cell_type": "code",
   "execution_count": null,
   "metadata": {},
   "outputs": [],
   "source": [
    "from urllib.request import urlopen\n",
    "import json\n",
    "import pandas as pd\n",
    "import plotly.express as px\n",
    "\n",
    "with urlopen('https://raw.githubusercontent.com/plotly/datasets/master/geojson-counties-fips.json') as response:\n",
    "    counties = json.load(response)\n",
    "\n",
    "\n",
    "fig = px.choropleth_mapbox(subset, geojson=counties, locations='FIPS', color= 'incident_containment',\n",
    "                           color_continuous_scale=\"Plasma_r\",\n",
    "                           hover_name = 'incident_county',\n",
    "                           mapbox_style=\"carto-positron\",\n",
    "                           zoom=4.8, center = {\"lat\": 37.3, \"lon\": -119.4179},\n",
    "                           opacity=0.5,\n",
    "                           labels={'incident_containment':'Percent Contained', 'FIPS' : 'County Code'},\n",
    "                           title = 'Average Wildfire Percent Contained (By County)'\n",
    "                          )\n",
    "\n",
    "fig.write_html(\"firemap3.html\")\n",
    "fig.show()\n"
   ]
  },
  {
   "cell_type": "code",
   "execution_count": null,
   "metadata": {},
   "outputs": [],
   "source": [
    "burned_by_county = subset.nlargest(10, 'incident_acres_burned')"
   ]
  },
  {
   "cell_type": "code",
   "execution_count": null,
   "metadata": {},
   "outputs": [],
   "source": [
    "import plotly.express as px\n",
    "\n",
    "fig = px.bar(burned_by_county, y=\"incident_county\", x=\"incident_acres_burned\", color=\"incident_county\", orientation=\"h\", \n",
    "             hover_name=\"incident_county\", labels = {'incident_county' : 'County', 'incident_acres_burned' : 'Acres Burned'},\n",
    "             color_discrete_sequence = px.colors.sequential.matter_r\n",
    "            )\n",
    "\n",
    "fig.show()"
   ]
  },
  {
   "cell_type": "code",
   "execution_count": null,
   "metadata": {},
   "outputs": [],
   "source": [
    "duplicate = df.copy()"
   ]
  },
  {
   "cell_type": "code",
   "execution_count": null,
   "metadata": {},
   "outputs": [],
   "source": [
    "duplicate['incident_name'] = df['incident_name'].copy().str.split('(').str[0]"
   ]
  },
  {
   "cell_type": "code",
   "execution_count": null,
   "metadata": {},
   "outputs": [],
   "source": [
    "burned_by_name = duplicate.nlargest(10, 'incident_acres_burned')"
   ]
  },
  {
   "cell_type": "code",
   "execution_count": null,
   "metadata": {},
   "outputs": [],
   "source": [
    "import plotly.express as px\n",
    "\n",
    "fig = px.bar(burned_by_name, y=\"incident_name\", x=\"incident_acres_burned\", color=\"incident_name\", orientation=\"h\", \n",
    "             hover_name=\"incident_name\", hover_data = ['incident_county','incident_date_extinguished'], labels = {'incident_date_extinguished' : 'Date Extinguished', 'incident_name' : 'Incident Name', 'incident_acres_burned' : 'Acres Burned', 'incident_county' : 'County'},\n",
    "             color_discrete_sequence = px.colors.sequential.matter_r\n",
    "            )\n",
    "\n",
    "fig.show()"
   ]
  }
 ],
 "metadata": {
  "kernelspec": {
   "display_name": "Python 3",
   "language": "python",
   "name": "python3"
  },
  "language_info": {
   "codemirror_mode": {
    "name": "ipython",
    "version": 3
   },
   "file_extension": ".py",
   "mimetype": "text/x-python",
   "name": "python",
   "nbconvert_exporter": "python",
   "pygments_lexer": "ipython3",
   "version": "3.7.6"
  }
 },
 "nbformat": 4,
 "nbformat_minor": 4
}
