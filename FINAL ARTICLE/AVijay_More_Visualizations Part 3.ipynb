{
 "cells": [
  {
   "cell_type": "code",
   "execution_count": 1,
   "metadata": {},
   "outputs": [],
   "source": [
    "import pandas as pd\n",
    "CA = pd.read_csv('mapdataall2.csv')"
   ]
  },
  {
   "cell_type": "code",
   "execution_count": 2,
   "metadata": {},
   "outputs": [
    {
     "data": {
      "text/plain": [
       "(1730, 23)"
      ]
     },
     "execution_count": 2,
     "metadata": {},
     "output_type": "execute_result"
    }
   ],
   "source": [
    "CA.shape"
   ]
  },
  {
   "cell_type": "code",
   "execution_count": 3,
   "metadata": {},
   "outputs": [],
   "source": [
    "df = pd.read_fwf('national_county.txt')\n",
    "df.to_csv('national_county.csv')"
   ]
  },
  {
   "cell_type": "code",
   "execution_count": 4,
   "metadata": {},
   "outputs": [
    {
     "data": {
      "text/plain": [
       "Index(['incident_name', 'incident_is_final', 'incident_date_last_update',\n",
       "       'incident_date_created', 'incident_administrative_unit',\n",
       "       'incident_administrative_unit_url', 'incident_county',\n",
       "       'incident_location', 'incident_acres_burned', 'incident_containment',\n",
       "       'incident_control', 'incident_cooperating_agencies',\n",
       "       'incident_longitude', 'incident_latitude', 'incident_type',\n",
       "       'incident_id', 'incident_url', 'incident_date_extinguished',\n",
       "       'incident_dateonly_extinguished', 'incident_dateonly_created',\n",
       "       'is_active', 'calfire_incident', 'notification_desired'],\n",
       "      dtype='object')"
      ]
     },
     "execution_count": 4,
     "metadata": {},
     "output_type": "execute_result"
    }
   ],
   "source": [
    "CA.columns"
   ]
  },
  {
   "cell_type": "code",
   "execution_count": 5,
   "metadata": {},
   "outputs": [],
   "source": [
    "df = CA[['incident_acres_burned','incident_county','incident_date_extinguished', 'incident_containment', 'incident_name']]"
   ]
  },
  {
   "cell_type": "code",
   "execution_count": 6,
   "metadata": {},
   "outputs": [
    {
     "data": {
      "text/plain": [
       "incident_acres_burned           0\n",
       "incident_county                11\n",
       "incident_date_extinguished    116\n",
       "incident_containment            0\n",
       "incident_name                   0\n",
       "dtype: int64"
      ]
     },
     "execution_count": 6,
     "metadata": {},
     "output_type": "execute_result"
    }
   ],
   "source": [
    "df.isnull().sum()"
   ]
  },
  {
   "cell_type": "code",
   "execution_count": 7,
   "metadata": {},
   "outputs": [
    {
     "data": {
      "text/plain": [
       "(1730, 5)"
      ]
     },
     "execution_count": 7,
     "metadata": {},
     "output_type": "execute_result"
    }
   ],
   "source": [
    "df.shape"
   ]
  },
  {
   "cell_type": "code",
   "execution_count": 8,
   "metadata": {},
   "outputs": [],
   "source": [
    "pd.set_option('display.max_columns', None)\n",
    "pd.set_option('display.max_rows', None)"
   ]
  },
  {
   "cell_type": "markdown",
   "metadata": {},
   "source": [
    "### Exploding a Column into multiple rows"
   ]
  },
  {
   "cell_type": "code",
   "execution_count": 9,
   "metadata": {},
   "outputs": [
    {
     "data": {
      "text/plain": [
       "str"
      ]
     },
     "execution_count": 9,
     "metadata": {},
     "output_type": "execute_result"
    }
   ],
   "source": [
    "type(df.incident_county[0])"
   ]
  },
  {
   "cell_type": "code",
   "execution_count": 10,
   "metadata": {},
   "outputs": [
    {
     "data": {
      "text/plain": [
       "incident_acres_burned           0\n",
       "incident_county                11\n",
       "incident_date_extinguished    116\n",
       "incident_containment            0\n",
       "incident_name                   0\n",
       "dtype: int64"
      ]
     },
     "execution_count": 10,
     "metadata": {},
     "output_type": "execute_result"
    }
   ],
   "source": [
    "df.isnull().sum()"
   ]
  },
  {
   "cell_type": "code",
   "execution_count": 11,
   "metadata": {},
   "outputs": [],
   "source": [
    "df = df[pd.notnull(df['incident_county'])]"
   ]
  },
  {
   "cell_type": "code",
   "execution_count": 12,
   "metadata": {},
   "outputs": [
    {
     "data": {
      "text/plain": [
       "incident_acres_burned           0\n",
       "incident_county                 0\n",
       "incident_date_extinguished    116\n",
       "incident_containment            0\n",
       "incident_name                   0\n",
       "dtype: int64"
      ]
     },
     "execution_count": 12,
     "metadata": {},
     "output_type": "execute_result"
    }
   ],
   "source": [
    "df.isnull().sum()"
   ]
  },
  {
   "cell_type": "code",
   "execution_count": 13,
   "metadata": {},
   "outputs": [],
   "source": [
    "df['incident_date_extinguished'] = df['incident_date_extinguished'].fillna('Active')"
   ]
  },
  {
   "cell_type": "code",
   "execution_count": 14,
   "metadata": {},
   "outputs": [
    {
     "data": {
      "text/plain": [
       "incident_acres_burned         0\n",
       "incident_county               0\n",
       "incident_date_extinguished    0\n",
       "incident_containment          0\n",
       "incident_name                 0\n",
       "dtype: int64"
      ]
     },
     "execution_count": 14,
     "metadata": {},
     "output_type": "execute_result"
    }
   ],
   "source": [
    "df.isnull().sum()"
   ]
  },
  {
   "cell_type": "code",
   "execution_count": 15,
   "metadata": {},
   "outputs": [],
   "source": [
    "new_df = pd.DataFrame(df.incident_county.str.split(', ').tolist(), index=[df.incident_acres_burned, df.incident_date_extinguished, df.incident_containment, df.incident_name]).stack()"
   ]
  },
  {
   "cell_type": "code",
   "execution_count": 16,
   "metadata": {},
   "outputs": [
    {
     "data": {
      "text/plain": [
       "incident_acres_burned  incident_date_extinguished  incident_containment  incident_name   \n",
       "37                     2018-01-09 13:46:00         100                    Bridge Fire   0            Shasta\n",
       "122                    2009-05-25 00:00:00         100                   Pala Fire      0         San Diego\n",
       "406                    2013-02-28 20:00:00         100                   River Fire     0              Inyo\n",
       "30                     2013-04-22 09:00:00         100                   Fawnskin Fire  0    San Bernardino\n",
       "274                    2013-05-01 07:00:00         100                   Gold Fire      0            Madera\n",
       "dtype: object"
      ]
     },
     "execution_count": 16,
     "metadata": {},
     "output_type": "execute_result"
    }
   ],
   "source": [
    "new_df.head()"
   ]
  },
  {
   "cell_type": "code",
   "execution_count": 17,
   "metadata": {},
   "outputs": [],
   "source": [
    "new_df = new_df.reset_index([0, 'incident_acres_burned', 'incident_date_extinguished','incident_containment','incident_name'])"
   ]
  },
  {
   "cell_type": "code",
   "execution_count": 18,
   "metadata": {},
   "outputs": [],
   "source": [
    "new_df.rename(columns = {0:'incident_county'}, inplace = True)"
   ]
  },
  {
   "cell_type": "code",
   "execution_count": 19,
   "metadata": {},
   "outputs": [],
   "source": [
    "new_df['incident_county'] = new_df['incident_county'] + \" County\""
   ]
  },
  {
   "cell_type": "code",
   "execution_count": 20,
   "metadata": {},
   "outputs": [],
   "source": [
    "new_df['STNAME'] = 'CA'"
   ]
  },
  {
   "cell_type": "code",
   "execution_count": 21,
   "metadata": {},
   "outputs": [
    {
     "data": {
      "text/plain": [
       "(1769, 6)"
      ]
     },
     "execution_count": 21,
     "metadata": {},
     "output_type": "execute_result"
    }
   ],
   "source": [
    "new_df.shape"
   ]
  },
  {
   "cell_type": "code",
   "execution_count": 22,
   "metadata": {},
   "outputs": [
    {
     "data": {
      "text/html": [
       "<div>\n",
       "<style scoped>\n",
       "    .dataframe tbody tr th:only-of-type {\n",
       "        vertical-align: middle;\n",
       "    }\n",
       "\n",
       "    .dataframe tbody tr th {\n",
       "        vertical-align: top;\n",
       "    }\n",
       "\n",
       "    .dataframe thead th {\n",
       "        text-align: right;\n",
       "    }\n",
       "</style>\n",
       "<table border=\"1\" class=\"dataframe\">\n",
       "  <thead>\n",
       "    <tr style=\"text-align: right;\">\n",
       "      <th></th>\n",
       "      <th>incident_acres_burned</th>\n",
       "      <th>incident_date_extinguished</th>\n",
       "      <th>incident_containment</th>\n",
       "      <th>incident_name</th>\n",
       "      <th>incident_county</th>\n",
       "      <th>STNAME</th>\n",
       "    </tr>\n",
       "  </thead>\n",
       "  <tbody>\n",
       "    <tr>\n",
       "      <th>1105</th>\n",
       "      <td>410203</td>\n",
       "      <td>2019-01-04 09:33:00</td>\n",
       "      <td>100</td>\n",
       "      <td>Ranch Fire (Mendocino Complex)</td>\n",
       "      <td>Colusa County</td>\n",
       "      <td>CA</td>\n",
       "    </tr>\n",
       "    <tr>\n",
       "      <th>1106</th>\n",
       "      <td>410203</td>\n",
       "      <td>2019-01-04 09:33:00</td>\n",
       "      <td>100</td>\n",
       "      <td>Ranch Fire (Mendocino Complex)</td>\n",
       "      <td>Glenn County</td>\n",
       "      <td>CA</td>\n",
       "    </tr>\n",
       "    <tr>\n",
       "      <th>1107</th>\n",
       "      <td>410203</td>\n",
       "      <td>2019-01-04 09:33:00</td>\n",
       "      <td>100</td>\n",
       "      <td>Ranch Fire (Mendocino Complex)</td>\n",
       "      <td>Lake County</td>\n",
       "      <td>CA</td>\n",
       "    </tr>\n",
       "    <tr>\n",
       "      <th>1108</th>\n",
       "      <td>410203</td>\n",
       "      <td>2019-01-04 09:33:00</td>\n",
       "      <td>100</td>\n",
       "      <td>Ranch Fire (Mendocino Complex)</td>\n",
       "      <td>Mendocino County</td>\n",
       "      <td>CA</td>\n",
       "    </tr>\n",
       "    <tr>\n",
       "      <th>1683</th>\n",
       "      <td>396624</td>\n",
       "      <td>2020-10-01 10:29:00</td>\n",
       "      <td>100</td>\n",
       "      <td>SCU Lightning Complex</td>\n",
       "      <td>Santa Clara County</td>\n",
       "      <td>CA</td>\n",
       "    </tr>\n",
       "    <tr>\n",
       "      <th>1684</th>\n",
       "      <td>396624</td>\n",
       "      <td>2020-10-01 10:29:00</td>\n",
       "      <td>100</td>\n",
       "      <td>SCU Lightning Complex</td>\n",
       "      <td>Alameda County</td>\n",
       "      <td>CA</td>\n",
       "    </tr>\n",
       "    <tr>\n",
       "      <th>1685</th>\n",
       "      <td>396624</td>\n",
       "      <td>2020-10-01 10:29:00</td>\n",
       "      <td>100</td>\n",
       "      <td>SCU Lightning Complex</td>\n",
       "      <td>Contra Costa County</td>\n",
       "      <td>CA</td>\n",
       "    </tr>\n",
       "    <tr>\n",
       "      <th>1686</th>\n",
       "      <td>396624</td>\n",
       "      <td>2020-10-01 10:29:00</td>\n",
       "      <td>100</td>\n",
       "      <td>SCU Lightning Complex</td>\n",
       "      <td>San Joaquin County</td>\n",
       "      <td>CA</td>\n",
       "    </tr>\n",
       "    <tr>\n",
       "      <th>1687</th>\n",
       "      <td>396624</td>\n",
       "      <td>2020-10-01 10:29:00</td>\n",
       "      <td>100</td>\n",
       "      <td>SCU Lightning Complex</td>\n",
       "      <td>Stanislaus County</td>\n",
       "      <td>CA</td>\n",
       "    </tr>\n",
       "    <tr>\n",
       "      <th>1695</th>\n",
       "      <td>363220</td>\n",
       "      <td>2020-10-02 10:38:00</td>\n",
       "      <td>100</td>\n",
       "      <td>LNU Lightning Complex (includes Hennessey, Gam...</td>\n",
       "      <td>Napa County</td>\n",
       "      <td>CA</td>\n",
       "    </tr>\n",
       "  </tbody>\n",
       "</table>\n",
       "</div>"
      ],
      "text/plain": [
       "      incident_acres_burned incident_date_extinguished  incident_containment  \\\n",
       "1105                 410203        2019-01-04 09:33:00                   100   \n",
       "1106                 410203        2019-01-04 09:33:00                   100   \n",
       "1107                 410203        2019-01-04 09:33:00                   100   \n",
       "1108                 410203        2019-01-04 09:33:00                   100   \n",
       "1683                 396624        2020-10-01 10:29:00                   100   \n",
       "1684                 396624        2020-10-01 10:29:00                   100   \n",
       "1685                 396624        2020-10-01 10:29:00                   100   \n",
       "1686                 396624        2020-10-01 10:29:00                   100   \n",
       "1687                 396624        2020-10-01 10:29:00                   100   \n",
       "1695                 363220        2020-10-02 10:38:00                   100   \n",
       "\n",
       "                                          incident_name      incident_county  \\\n",
       "1105                     Ranch Fire (Mendocino Complex)        Colusa County   \n",
       "1106                     Ranch Fire (Mendocino Complex)         Glenn County   \n",
       "1107                     Ranch Fire (Mendocino Complex)          Lake County   \n",
       "1108                     Ranch Fire (Mendocino Complex)     Mendocino County   \n",
       "1683                              SCU Lightning Complex   Santa Clara County   \n",
       "1684                              SCU Lightning Complex       Alameda County   \n",
       "1685                              SCU Lightning Complex  Contra Costa County   \n",
       "1686                              SCU Lightning Complex   San Joaquin County   \n",
       "1687                              SCU Lightning Complex    Stanislaus County   \n",
       "1695  LNU Lightning Complex (includes Hennessey, Gam...          Napa County   \n",
       "\n",
       "     STNAME  \n",
       "1105     CA  \n",
       "1106     CA  \n",
       "1107     CA  \n",
       "1108     CA  \n",
       "1683     CA  \n",
       "1684     CA  \n",
       "1685     CA  \n",
       "1686     CA  \n",
       "1687     CA  \n",
       "1695     CA  "
      ]
     },
     "execution_count": 22,
     "metadata": {},
     "output_type": "execute_result"
    }
   ],
   "source": [
    "new_df.nlargest(10, 'incident_acres_burned')"
   ]
  },
  {
   "cell_type": "code",
   "execution_count": 23,
   "metadata": {},
   "outputs": [],
   "source": [
    "test = pd.read_csv('national_county.csv', header = None)"
   ]
  },
  {
   "cell_type": "code",
   "execution_count": 24,
   "metadata": {},
   "outputs": [],
   "source": [
    "test.rename(columns = {0: \"x\", 1 : \"y\"}, inplace = True)"
   ]
  },
  {
   "cell_type": "code",
   "execution_count": 25,
   "metadata": {},
   "outputs": [],
   "source": [
    "test2 = pd.DataFrame(test.y.str.split(',').tolist())\n"
   ]
  },
  {
   "cell_type": "code",
   "execution_count": 26,
   "metadata": {},
   "outputs": [],
   "source": [
    "test2.rename(columns = {0: \"STNAME\", 1 : \"x\", 2 : \"y\", 3 : \"incident_county\"}, inplace = True)"
   ]
  },
  {
   "cell_type": "code",
   "execution_count": 27,
   "metadata": {},
   "outputs": [],
   "source": [
    "test2.drop([4], axis = 1 ,inplace = True)"
   ]
  },
  {
   "cell_type": "code",
   "execution_count": 28,
   "metadata": {},
   "outputs": [],
   "source": [
    "test2[\"FIPS\"] = test2['x'] + test2['y']"
   ]
  },
  {
   "cell_type": "code",
   "execution_count": 29,
   "metadata": {},
   "outputs": [],
   "source": [
    "test2.drop(['x', 'y'], axis = 1, inplace = True)"
   ]
  },
  {
   "cell_type": "code",
   "execution_count": 30,
   "metadata": {},
   "outputs": [],
   "source": [
    "testCA = test2[test2[\"STNAME\"] == 'CA']"
   ]
  },
  {
   "cell_type": "code",
   "execution_count": 31,
   "metadata": {},
   "outputs": [
    {
     "data": {
      "text/html": [
       "<div>\n",
       "<style scoped>\n",
       "    .dataframe tbody tr th:only-of-type {\n",
       "        vertical-align: middle;\n",
       "    }\n",
       "\n",
       "    .dataframe tbody tr th {\n",
       "        vertical-align: top;\n",
       "    }\n",
       "\n",
       "    .dataframe thead th {\n",
       "        text-align: right;\n",
       "    }\n",
       "</style>\n",
       "<table border=\"1\" class=\"dataframe\">\n",
       "  <thead>\n",
       "    <tr style=\"text-align: right;\">\n",
       "      <th></th>\n",
       "      <th>STNAME</th>\n",
       "      <th>incident_county</th>\n",
       "      <th>FIPS</th>\n",
       "    </tr>\n",
       "  </thead>\n",
       "  <tbody>\n",
       "    <tr>\n",
       "      <th>186</th>\n",
       "      <td>CA</td>\n",
       "      <td>Alameda County</td>\n",
       "      <td>06001</td>\n",
       "    </tr>\n",
       "    <tr>\n",
       "      <th>187</th>\n",
       "      <td>CA</td>\n",
       "      <td>Alpine County</td>\n",
       "      <td>06003</td>\n",
       "    </tr>\n",
       "    <tr>\n",
       "      <th>188</th>\n",
       "      <td>CA</td>\n",
       "      <td>Amador County</td>\n",
       "      <td>06005</td>\n",
       "    </tr>\n",
       "    <tr>\n",
       "      <th>189</th>\n",
       "      <td>CA</td>\n",
       "      <td>Butte County</td>\n",
       "      <td>06007</td>\n",
       "    </tr>\n",
       "    <tr>\n",
       "      <th>190</th>\n",
       "      <td>CA</td>\n",
       "      <td>Calaveras County</td>\n",
       "      <td>06009</td>\n",
       "    </tr>\n",
       "  </tbody>\n",
       "</table>\n",
       "</div>"
      ],
      "text/plain": [
       "    STNAME   incident_county   FIPS\n",
       "186     CA    Alameda County  06001\n",
       "187     CA     Alpine County  06003\n",
       "188     CA     Amador County  06005\n",
       "189     CA      Butte County  06007\n",
       "190     CA  Calaveras County  06009"
      ]
     },
     "execution_count": 31,
     "metadata": {},
     "output_type": "execute_result"
    }
   ],
   "source": [
    "testCA.head()"
   ]
  },
  {
   "cell_type": "code",
   "execution_count": 32,
   "metadata": {},
   "outputs": [],
   "source": [
    "new_df['FIPS'] = new_df.incident_county.map(testCA.set_index('incident_county')['FIPS'].to_dict())"
   ]
  },
  {
   "cell_type": "code",
   "execution_count": 33,
   "metadata": {},
   "outputs": [],
   "source": [
    "import numpy as np"
   ]
  },
  {
   "cell_type": "code",
   "execution_count": 34,
   "metadata": {},
   "outputs": [],
   "source": [
    "subset = new_df.groupby(['incident_county']).agg({'incident_acres_burned':sum, 'incident_containment':np.mean, 'incident_name':len}).reset_index()"
   ]
  },
  {
   "cell_type": "code",
   "execution_count": 35,
   "metadata": {},
   "outputs": [],
   "source": [
    "subset['FIPS'] = subset.incident_county.map(testCA.set_index('incident_county')['FIPS'].to_dict())"
   ]
  },
  {
   "cell_type": "code",
   "execution_count": 36,
   "metadata": {},
   "outputs": [
    {
     "data": {
      "text/plain": [
       "1769"
      ]
     },
     "execution_count": 36,
     "metadata": {},
     "output_type": "execute_result"
    }
   ],
   "source": [
    "subset.incident_name.sum()"
   ]
  },
  {
   "cell_type": "code",
   "execution_count": null,
   "metadata": {},
   "outputs": [],
   "source": [
    "from urllib.request import urlopen\n",
    "import json\n",
    "import pandas as pd\n",
    "import plotly.express as px\n",
    "\n",
    "with urlopen('https://raw.githubusercontent.com/plotly/datasets/master/geojson-counties-fips.json') as response:\n",
    "    counties = json.load(response)\n",
    "\n",
    "\n",
    "fig = px.choropleth_mapbox(subset, geojson=counties, locations='FIPS', color= 'incident_acres_burned',\n",
    "                           color_continuous_scale=\"inferno_r\",\n",
    "                           hover_name = 'incident_county',\n",
    "                           mapbox_style=\"carto-positron\",\n",
    "                           zoom=4.8, center = {\"lat\": 37.3, \"lon\": -119.4179},\n",
    "                           hover_data = ['incident_name'],\n",
    "                           opacity=0.5,\n",
    "                           labels={'incident_acres_burned':'Acres Burned', 'FIPS' : 'County Code', \n",
    "                                   'incident_name' : 'Number of Incidents'},\n",
    "                           title = 'Acres Burned (By County)'\n",
    "                          )\n",
    "\n",
    "fig.write_html(\"firemap2.html\")\n",
    "fig.show()\n"
   ]
  },
  {
   "cell_type": "code",
   "execution_count": null,
   "metadata": {},
   "outputs": [],
   "source": [
    "CA_avg_contained = subset.incident_containment.mean()\n",
    "CA_avg_contained"
   ]
  },
  {
   "cell_type": "code",
   "execution_count": null,
   "metadata": {},
   "outputs": [],
   "source": [
    "subset.head()"
   ]
  },
  {
   "cell_type": "code",
   "execution_count": null,
   "metadata": {},
   "outputs": [],
   "source": [
    "from urllib.request import urlopen\n",
    "import json\n",
    "import pandas as pd\n",
    "import plotly.express as px\n",
    "\n",
    "with urlopen('https://raw.githubusercontent.com/plotly/datasets/master/geojson-counties-fips.json') as response:\n",
    "    counties = json.load(response)\n",
    "\n",
    "\n",
    "fig = px.choropleth_mapbox(subset, geojson=counties, locations='FIPS', color= 'incident_containment',\n",
    "                           color_continuous_scale=\"Plasma_r\",\n",
    "                           hover_name = 'incident_county',\n",
    "                           hover_data = ['incident_name'],\n",
    "                           mapbox_style=\"carto-positron\",\n",
    "                           zoom=4.8, center = {\"lat\": 37.3, \"lon\": -119.4179},\n",
    "                           opacity=0.5,\n",
    "                           labels={'incident_containment':'Percent Contained', 'FIPS' : 'County Code',\n",
    "                                   'incident_name' : 'Number of Incidents'},\n",
    "                           title = 'Average Percent Of Wildfires Contained (By County)'\n",
    "                          )\n",
    "\n",
    "fig.write_html(\"firemap3.html\")\n",
    "fig.show()\n"
   ]
  },
  {
   "cell_type": "code",
   "execution_count": null,
   "metadata": {},
   "outputs": [],
   "source": [
    "burned_by_county = subset.nlargest(10, 'incident_acres_burned')"
   ]
  },
  {
   "cell_type": "code",
   "execution_count": null,
   "metadata": {},
   "outputs": [],
   "source": [
    "import plotly.express as px\n",
    "\n",
    "fig = px.bar(burned_by_county, y=\"incident_county\", x=\"incident_acres_burned\", color=\"incident_county\", orientation=\"h\", \n",
    "             hover_name=\"incident_county\", labels = {'incident_county' : 'County', 'incident_acres_burned' : 'Acres Burned'},\n",
    "             color_discrete_sequence = px.colors.sequential.matter_r, title = 'Top 10 CA Counties Ranked By Acres Burned'\n",
    "            )\n",
    "\n",
    "fig.write_html(\"barchart_counties.html\")\n",
    "fig.show()"
   ]
  },
  {
   "cell_type": "code",
   "execution_count": null,
   "metadata": {},
   "outputs": [],
   "source": [
    "duplicate = df.copy()"
   ]
  },
  {
   "cell_type": "code",
   "execution_count": null,
   "metadata": {},
   "outputs": [],
   "source": [
    "duplicate['incident_name'] = df['incident_name'].copy().str.split('(').str[0]"
   ]
  },
  {
   "cell_type": "code",
   "execution_count": null,
   "metadata": {},
   "outputs": [],
   "source": [
    "# duplicate['date_extinguished'] = pd.to_datetime(duplicate['incident_date_extinguished']).dt.strftime('%Y-%m-%d')"
   ]
  },
  {
   "cell_type": "code",
   "execution_count": null,
   "metadata": {},
   "outputs": [],
   "source": [
    "duplicate.head()"
   ]
  },
  {
   "cell_type": "code",
   "execution_count": null,
   "metadata": {},
   "outputs": [],
   "source": [
    "burned_by_name = duplicate.nlargest(10, 'incident_acres_burned')"
   ]
  },
  {
   "cell_type": "code",
   "execution_count": null,
   "metadata": {},
   "outputs": [],
   "source": [
    "import plotly.express as px\n",
    "\n",
    "fig = px.bar(burned_by_name, y=\"incident_name\", x=\"incident_acres_burned\", color=\"incident_name\", orientation=\"h\", \n",
    "             hover_name=\"incident_name\", hover_data = ['incident_county','incident_date_extinguished'], labels = {'incident_date_extinguished' : 'Date Extinguished', 'incident_name' : 'Incident Name', 'incident_acres_burned' : 'Acres Burned', 'incident_county' : 'County'},\n",
    "             color_discrete_sequence = px.colors.sequential.matter_r, title = 'Top 10 CA Fires Ranked By Acres Burned'\n",
    "            )\n",
    "\n",
    "fig.write_html(\"barchart_names.html\")\n",
    "fig.show()"
   ]
  },
  {
   "cell_type": "code",
   "execution_count": null,
   "metadata": {},
   "outputs": [],
   "source": [
    "import sys\n",
    "import numpy\n",
    "numpy.set_printoptions(threshold=sys.maxsize)"
   ]
  },
  {
   "cell_type": "code",
   "execution_count": null,
   "metadata": {},
   "outputs": [],
   "source": [
    "df.incident_name.unique()"
   ]
  },
  {
   "cell_type": "code",
   "execution_count": null,
   "metadata": {},
   "outputs": [],
   "source": [
    "top_20_largest = pd.read_excel('top20_acres.xlsx')\n",
    "top_20_largest = top_20_largest[1:21]"
   ]
  },
  {
   "cell_type": "code",
   "execution_count": null,
   "metadata": {},
   "outputs": [],
   "source": [
    "top_20_deadliest = pd.read_excel('top20_deadliest.xlsx')\n",
    "top_20_deadliest = top_20_deadliest[1:21]"
   ]
  },
  {
   "cell_type": "code",
   "execution_count": null,
   "metadata": {},
   "outputs": [],
   "source": [
    "top_20_destructive = pd.read_excel('top20_destruction.xlsx')\n",
    "top_20_destructive = top_20_destructive[1:21]"
   ]
  },
  {
   "cell_type": "code",
   "execution_count": null,
   "metadata": {},
   "outputs": [],
   "source": [
    "top_20_largest.rename(columns = {'Unnamed: 1' : 'incident_name', 'Unnamed: 2' : 'incident_date', \n",
    "                                   'Unnamed: 3' : 'incident_county', 'Unnamed: 4' : 'incident_acres_burned', \n",
    "                                   'Unnamed: 5' : 'Structures Destroyed', 'Unnamed: 6' : 'Deaths'}, inplace = True)"
   ]
  },
  {
   "cell_type": "code",
   "execution_count": null,
   "metadata": {},
   "outputs": [],
   "source": [
    "top_20_deadliest.rename(columns = {'Unnamed: 1' : 'incident_name', 'Unnamed: 2' : 'incident_date', \n",
    "                                   'Unnamed: 3' : 'incident_county', 'Unnamed: 4' : 'incident_acres_burned', \n",
    "                                   'Unnamed: 5' : 'Structures Destroyed', 'Unnamed: 6' : 'Deaths'}, inplace = True)"
   ]
  },
  {
   "cell_type": "code",
   "execution_count": null,
   "metadata": {},
   "outputs": [],
   "source": [
    "top_20_destructive.rename(columns = {'Unnamed: 1' : 'incident_name', 'Unnamed: 2' : 'incident_date', \n",
    "                                   'Unnamed: 3' : 'incident_county', 'Unnamed: 4' : 'incident_acres_burned', \n",
    "                                   'Unnamed: 5' : 'Structures Destroyed', 'Unnamed: 6' : 'Deaths'}, inplace = True)"
   ]
  },
  {
   "cell_type": "code",
   "execution_count": null,
   "metadata": {},
   "outputs": [],
   "source": [
    "top_20_largest['incident_cause'] = top_20_largest['incident_name'].str.split('(').str.get(1)\n",
    "top_20_largest['incident_cause'] = top_20_largest['incident_cause'].str.extract('([a-zA-Z ]+)', expand=False).str.strip()\n",
    "top_20_largest['incident_name'] = top_20_largest['incident_name'].str.extract('([a-zA-Z ]+)', expand=False).str.strip()\n",
    "top_20_largest['incident_county'] = top_20_largest['incident_county'].str.replace('\\n', '')"
   ]
  },
  {
   "cell_type": "code",
   "execution_count": null,
   "metadata": {},
   "outputs": [],
   "source": [
    "top_20_deadliest['incident_cause'] = top_20_deadliest['incident_name'].str.split('(').str.get(1)\n",
    "top_20_deadliest['incident_cause'] = top_20_deadliest['incident_cause'].str.extract('([a-zA-Z ]+)', expand=False).str.strip()\n",
    "top_20_deadliest['incident_name'] = top_20_deadliest['incident_name'].str.extract('([a-zA-Z ]+)', expand=False).str.strip()"
   ]
  },
  {
   "cell_type": "code",
   "execution_count": null,
   "metadata": {},
   "outputs": [],
   "source": [
    "top_20_destructive['incident_cause'] = top_20_destructive['incident_name'].str.split('(').str.get(1)\n",
    "top_20_destructive['incident_cause'] = top_20_destructive['incident_cause'].str.extract('([a-zA-Z ]+)', expand=False).str.strip()\n",
    "top_20_destructive['incident_name'] = top_20_destructive['incident_name'].str.extract('([a-zA-Z ]+)', expand=False).str.strip()"
   ]
  },
  {
   "cell_type": "code",
   "execution_count": null,
   "metadata": {},
   "outputs": [],
   "source": [
    "top_20_largest['incident_cause'] = top_20_largest['incident_cause'].replace(['Undetermined'],'Unknown')"
   ]
  },
  {
   "cell_type": "code",
   "execution_count": null,
   "metadata": {},
   "outputs": [],
   "source": [
    "from collections import Counter\n",
    "\n",
    "labels = top_20_largest['incident_cause']\n",
    "largest_labels = list(top_20_largest['incident_cause'].unique())\n",
    "largest_values = list(Counter(labels).values())"
   ]
  },
  {
   "cell_type": "code",
   "execution_count": null,
   "metadata": {},
   "outputs": [],
   "source": [
    "import plotly.graph_objects as go\n",
    "from plotly.subplots import make_subplots\n",
    "\n",
    "colors = ['gold', 'mediumturquoise', 'OrangeRed', 'LightSkyBlue', 'MediumOrchid']\n",
    "# pull is given as a fraction of the pie radius\n",
    "\n",
    "fig = make_subplots(rows=1, cols=1, specs=[[{'type':'domain'}]])\n",
    "\n",
    "fig.add_trace(go.Pie(labels=largest_labels, values=largest_values, pull=[0, 0, 0.2, 0, 0], name = 'Wildfire Cause', sort = False),\n",
    "              1, 1)\n",
    "fig.update_traces(hoverinfo=\"label+percent+name\", textfont_size = 16, \n",
    "                 marker=dict(colors=colors, line=dict(color='#000000', width=2)))\n",
    "\n",
    "fig.update_layout(title = 'Causes of the Top 20 Largest California Wildfires')\n",
    "fig.show()"
   ]
  },
  {
   "cell_type": "code",
   "execution_count": null,
   "metadata": {},
   "outputs": [],
   "source": [
    "top_20_deadliest['incident_cause'] = top_20_deadliest['incident_cause'].replace(['Undetermined'],'Unknown')\n",
    "top_20_deadliest['incident_cause'] = top_20_deadliest['incident_cause'].replace(['Arson', 'Vehicle'],'Human Related')\n",
    "top_20_deadliest['incident_cause'] = top_20_deadliest['incident_cause'].replace(['Powerline', 'Power Lines'],'Powerlines')"
   ]
  },
  {
   "cell_type": "code",
   "execution_count": null,
   "metadata": {},
   "outputs": [],
   "source": [
    "labels = top_20_deadliest['incident_cause']\n",
    "deadliest_labels = list(top_20_deadliest['incident_cause'].unique())\n",
    "deadliest_values = list(Counter(labels).values())"
   ]
  },
  {
   "cell_type": "code",
   "execution_count": null,
   "metadata": {},
   "outputs": [],
   "source": [
    "import plotly.graph_objects as go\n",
    "from plotly.subplots import make_subplots\n",
    "\n",
    "colors = ['gold', 'mediumturquoise', 'darkorange', 'LightSkyBlue', 'MediumOrchid', 'OrangeRed', 'Pink']\n",
    "# pull is given as a fraction of the pie radius\n",
    "\n",
    "fig = make_subplots(rows=1, cols=1, specs=[[{'type':'domain'}]])\n",
    "\n",
    "fig.add_trace(go.Pie(labels=deadliest_labels, values=deadliest_values, pull=[0, 0, 0, 0, 0, 0.2, 0], name = 'Wildfire Cause', sort = False),\n",
    "              1, 1)\n",
    "fig.update_traces(hoverinfo=\"label+percent+name\", textfont_size = 16, \n",
    "                 marker=dict(colors=colors, line=dict(color='#000000', width=2)))\n",
    "\n",
    "fig.update_layout(title = 'Causes of the Top 20 Deadliest California Wildfires')\n",
    "\n",
    "fig.show()"
   ]
  },
  {
   "cell_type": "code",
   "execution_count": null,
   "metadata": {},
   "outputs": [],
   "source": [
    "top_20_destructive['incident_cause'] = top_20_destructive['incident_cause'].replace(['Undetermined'],'Unknown')\n",
    "top_20_destructive['incident_cause'] = top_20_destructive['incident_cause'].replace(['Arson', 'Vehicle'],'Human Related')\n",
    "top_20_destructive['incident_cause'] = top_20_destructive['incident_cause'].replace(['Powerline', 'Power Lines'],'Powerlines')"
   ]
  },
  {
   "cell_type": "code",
   "execution_count": null,
   "metadata": {},
   "outputs": [],
   "source": [
    "labels = top_20_destructive['incident_cause']\n",
    "destructive_labels = list(top_20_destructive['incident_cause'].unique())\n",
    "destructive_values = list(Counter(labels).values())"
   ]
  },
  {
   "cell_type": "code",
   "execution_count": null,
   "metadata": {},
   "outputs": [],
   "source": [
    "import plotly.graph_objects as go\n",
    "from plotly.subplots import make_subplots\n",
    "\n",
    "colors = ['gold', 'mediumturquoise', 'darkorange', 'OrangeRed', 'MediumOrchid', 'LightSkyBlue', 'Pink']\n",
    "# pull is given as a fraction of the pie radius\n",
    "\n",
    "fig = make_subplots(rows=1, cols=1, specs=[[{'type':'domain'}]])\n",
    "\n",
    "fig.add_trace(go.Pie(labels=destructive_labels, values=destructive_values, pull=[0, 0, 0, 0.2, 0, 0, 0], name = 'Wildfire Cause', sort = False),\n",
    "              1, 1)\n",
    "fig.update_traces(hoverinfo=\"label+percent+name\", textfont_size = 16, \n",
    "                 marker=dict(colors=colors, line=dict(color='#000000', width=2)))\n",
    "\n",
    "fig.update_layout(title = 'Causes of the Top 20 Most Destructive California Wildfires')\n",
    "\n",
    "fig.show()"
   ]
  },
  {
   "cell_type": "code",
   "execution_count": null,
   "metadata": {},
   "outputs": [],
   "source": [
    "import plotly.graph_objects as go\n",
    "from plotly.subplots import make_subplots\n",
    "\n",
    "\n",
    "\n",
    "fig = make_subplots(rows=1, cols=3, specs=[[{'type':'domain'}, {'type':'domain'}, {'type':'domain'}]])\n",
    "\n",
    "fig.add_trace(go.Pie(labels=largest_labels, values=largest_values, pull=[0, 0, 0.2, 0, 0],\n",
    "                     name = 'Cause', sort = False), 1, 1)\n",
    "fig.add_trace(go.Pie(labels=deadliest_labels, values=deadliest_values, pull=[0, 0, 0, 0, 0, 0.2, 0], \n",
    "                     name='Cause', sort = False), 1, 2)\n",
    "fig.add_trace(go.Pie(labels=destructive_labels, values=destructive_values, pull=[0, 0, 0, 0.2, 0, 0, 0], \n",
    "                     name='Cause', sort = False,\n",
    "                     marker = {'colors' : ['gold', 'DarkTurquoise', 'BurlyWood', \n",
    "                                          'OrangeRed', 'MediumOrchid', 'LightSkyBlue',\n",
    "                                          'Pink']}), 1, 3)\n",
    "\n",
    "\n",
    "fig.update_traces(hoverinfo=\"label+percent+name\", textfont_size = 14,\n",
    "                  marker=dict(line=dict(color='#000000', width=2)))\n",
    "\n",
    "fig.update_layout(\n",
    "    title = 'Causes Of The Larget, Deadliest, and Most Destructive CA Wildfires',\n",
    "    annotations=[dict(text='Causes: Top 20 Largest Fires', x=-0.004, y=0.85, font_size=15, showarrow=False),\n",
    "                 dict(text='Causes: Top 20 Deadliest Fires', x=0.465, y=0.85, font_size=15, showarrow=False),\n",
    "                 dict(text='Causes: Top 20 Most Destructive', x=0.925, y=0.85, font_size=15, showarrow=False)])\n",
    "\n",
    "fig.write_html(\"fire_piechart.html\")\n",
    "\n",
    "fig.show()"
   ]
  },
  {
   "cell_type": "code",
   "execution_count": null,
   "metadata": {},
   "outputs": [],
   "source": [
    "i1 = np.intersect1d(top_20_largest.incident_name, np.intersect1d(top_20_deadliest.incident_name, top_20_destructive.incident_name))"
   ]
  },
  {
   "cell_type": "code",
   "execution_count": null,
   "metadata": {},
   "outputs": [],
   "source": [
    "i1"
   ]
  },
  {
   "cell_type": "code",
   "execution_count": null,
   "metadata": {},
   "outputs": [],
   "source": [
    "i2 = np.intersect1d(top_20_largest.incident_name, top_20_deadliest.incident_name)"
   ]
  },
  {
   "cell_type": "code",
   "execution_count": null,
   "metadata": {},
   "outputs": [],
   "source": [
    "i2"
   ]
  },
  {
   "cell_type": "code",
   "execution_count": null,
   "metadata": {},
   "outputs": [],
   "source": [
    "i3 = np.intersect1d(top_20_largest.incident_name, top_20_destructive.incident_name)"
   ]
  },
  {
   "cell_type": "code",
   "execution_count": null,
   "metadata": {},
   "outputs": [],
   "source": [
    "i3"
   ]
  },
  {
   "cell_type": "code",
   "execution_count": null,
   "metadata": {},
   "outputs": [],
   "source": [
    "i4 = np.intersect1d(top_20_deadliest.incident_name, top_20_destructive.incident_name)"
   ]
  },
  {
   "cell_type": "code",
   "execution_count": null,
   "metadata": {},
   "outputs": [],
   "source": [
    "i4"
   ]
  },
  {
   "cell_type": "code",
   "execution_count": null,
   "metadata": {},
   "outputs": [],
   "source": [
    "i5 = list(i1) + list(i2) + list(i3) + list(i4)"
   ]
  },
  {
   "cell_type": "code",
   "execution_count": null,
   "metadata": {},
   "outputs": [],
   "source": [
    "i6 = list(set(i5))"
   ]
  },
  {
   "cell_type": "code",
   "execution_count": null,
   "metadata": {},
   "outputs": [],
   "source": [
    "i6"
   ]
  },
  {
   "cell_type": "code",
   "execution_count": null,
   "metadata": {},
   "outputs": [],
   "source": [
    "data = pd.DataFrame(columns = ['TOP 20 LARGEST', 'TOP 20 DEADLIEST', 'TOP 20 MOST DESTRUCTIVE'], index = i6)"
   ]
  },
  {
   "cell_type": "code",
   "execution_count": null,
   "metadata": {},
   "outputs": [],
   "source": [
    "data"
   ]
  },
  {
   "cell_type": "code",
   "execution_count": null,
   "metadata": {},
   "outputs": [],
   "source": [
    "data.loc['OLD'] = [0,1,1]\n",
    "data.loc['TUNNEL'] = [0,1,1]\n",
    "data.loc['NORTH COMPLEX'] = [1,1,1]\n",
    "data.loc['LNU LIGHTNING COMPLEX'] = [1,0,1]\n",
    "data.loc['CARR'] = [1,1,1]\n",
    "data.loc['AUGUST COMPLEX'] = [1,0,1]\n",
    "data.loc['THOMAS'] = [1,0,1]\n",
    "data.loc['ATLAS'] = [0,1,1]\n",
    "data.loc['CREEK FIRE'] = [1,0,1]\n",
    "data.loc['CEDAR'] = [1,1,1]\n",
    "data.loc['TUBBS'] = [0,1,1]\n",
    "data.loc['CAMP FIRE'] = [0,1,1]\n",
    "data.loc['WITCH'] = [1,0,1]"
   ]
  },
  {
   "cell_type": "code",
   "execution_count": null,
   "metadata": {},
   "outputs": [],
   "source": [
    "new_index = []\n",
    "for i in data.index:\n",
    "    if 'COMPLEX' in i or 'FIRE' in i:\n",
    "        new_index.append(i)\n",
    "    else:\n",
    "        new_index.append(str(i) + ' FIRE')\n",
    "        "
   ]
  },
  {
   "cell_type": "code",
   "execution_count": null,
   "metadata": {},
   "outputs": [],
   "source": [
    "data.index = new_index"
   ]
  },
  {
   "cell_type": "code",
   "execution_count": null,
   "metadata": {},
   "outputs": [],
   "source": [
    "data"
   ]
  },
  {
   "cell_type": "code",
   "execution_count": null,
   "metadata": {},
   "outputs": [],
   "source": [
    "from networkx.algorithms import bipartite\n",
    "from networkx.algorithms import nx\n",
    "\n",
    "B = nx.Graph()\n",
    "B.add_nodes_from(data.index, bipartite=0)\n",
    "B.add_nodes_from(data.columns, bipartite=1)\n",
    "\n",
    "s = data.stack()\n",
    "B.add_edges_from(s[s==1].index)\n"
   ]
  },
  {
   "cell_type": "code",
   "execution_count": null,
   "metadata": {},
   "outputs": [],
   "source": [
    "color_dict = {0:'b',1:'r',2:'m'}\n",
    "\n",
    "t = list(B.nodes.data('bipartite'))\n",
    "for i in range(len(t)):\n",
    "    if t[i][0] == 'NORTH COMPLEX' or t[i][0] == 'CARR FIRE' or t[i][0] == 'CEDAR FIRE':\n",
    "        t[i] = (t[i][0], 2)\n",
    "        \n",
    "color_list = [color_dict[i[1]] for i in t]"
   ]
  },
  {
   "cell_type": "code",
   "execution_count": null,
   "metadata": {},
   "outputs": [],
   "source": [
    "from matplotlib.pyplot import figure, text\n",
    "import matplotlib.pyplot as plt\n",
    "\n",
    "figure(figsize=(12,12))\n",
    "\n",
    "top = nx.bipartite.sets(B)[0]\n",
    "pos = nx.bipartite_layout(B, top)\n",
    "\n",
    "\n",
    "nx.draw(B, pos=pos, with_labels=False, \n",
    "        node_size=1000, node_color = color_list)\n",
    "\n",
    "# count = 0\n",
    "# for node, (x, y) in pos.items():\n",
    "#     if node == 'TOP 20 MOST DESTRUCTIVE':\n",
    "#         text(x,y-0.038,s=node, bbox=dict(facecolor=color_list[count], alpha=0.3), fontsize = 12,\n",
    "#              horizontalalignment='center')\n",
    "#     elif 'TOP 20' in node:\n",
    "#         text(x+0.05,y+0.03,s=node, bbox=dict(facecolor=color_list[count], alpha=0.3), fontsize = 12,\n",
    "#              horizontalalignment='center')\n",
    "#     else:\n",
    "#         text(x,y+0.03,s=node, bbox=dict(facecolor=color_list[count],alpha=0.3),fontsize = 12,horizontalalignment='center')\n",
    "#     count += 1\n",
    " \n",
    "\n",
    "for node, (x, y) in pos.items():\n",
    "    if node == 'TOP 20 MOST DESTRUCTIVE':\n",
    "        text(x+0.01,y-0.062,s=node, bbox=dict(facecolor='r', alpha=0.3), fontsize = 12,\n",
    "             horizontalalignment='center', rotation = 13)\n",
    "    elif node == 'TOP 20 LARGEST':\n",
    "        text(x+0.01,y-0.055,s=node, bbox=dict(facecolor='r', alpha=0.3), fontsize = 12,\n",
    "             horizontalalignment='center', rotation = 15)\n",
    "    elif node == 'TOP 20 DEADLIEST':\n",
    "        text(x+0.02,y-0.058,s=node, bbox=dict(facecolor='r', alpha=0.3), fontsize = 12,\n",
    "             horizontalalignment='center', rotation = 17)\n",
    "    elif node == 'CEDAR FIRE' or node == 'NORTH COMPLEX' or node == 'CARR FIRE':\n",
    "        text(x,y+0.03,s=node, bbox=dict(facecolor='m',alpha=0.3),fontsize = 12,horizontalalignment='center')\n",
    "    else:\n",
    "        text(x,y+0.03,s=node, bbox=dict(facecolor='b',alpha=0.3),fontsize = 12,horizontalalignment='center')\n",
    "plt.title(\"Bipartite Plot Mapping Fire Incidents to Top 20 Subsets\", fontsize = 20);"
   ]
  },
  {
   "cell_type": "code",
   "execution_count": null,
   "metadata": {},
   "outputs": [],
   "source": [
    "top_20_largest.head()"
   ]
  },
  {
   "cell_type": "code",
   "execution_count": null,
   "metadata": {},
   "outputs": [],
   "source": [
    "top_20_deadliest.head()"
   ]
  },
  {
   "cell_type": "code",
   "execution_count": null,
   "metadata": {},
   "outputs": [],
   "source": [
    "top_20_destructive.head()"
   ]
  },
  {
   "cell_type": "code",
   "execution_count": null,
   "metadata": {},
   "outputs": [],
   "source": []
  }
 ],
 "metadata": {
  "kernelspec": {
   "display_name": "Python 3",
   "language": "python",
   "name": "python3"
  },
  "language_info": {
   "codemirror_mode": {
    "name": "ipython",
    "version": 3
   },
   "file_extension": ".py",
   "mimetype": "text/x-python",
   "name": "python",
   "nbconvert_exporter": "python",
   "pygments_lexer": "ipython3",
   "version": "3.7.6"
  }
 },
 "nbformat": 4,
 "nbformat_minor": 4
}
